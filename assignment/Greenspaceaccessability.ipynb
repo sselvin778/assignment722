{
 "cells": [
  {
   "cell_type": "markdown",
   "id": "de04d20b-77c2-4fe5-a3e0-9053fb0cb417",
   "metadata": {},
   "source": [
    "# Assessing greenspace accessability within Northern Ireland through an interactive map which calculates the nearest proximity of a settlement to its nearest off-road greensapce trial. \n",
    "## Overview \n",
    "In this code, you will see how you can use libaries like geopandas and folium in-conjunction with functions like STRtree and nearest_points, to understand how varied greenspace accessability really is within Northern Ireland. Whilst there are more accurate models of greenspace accessability within Northern Ireland, the importance of how accessable a greenspace is goes unnoticed in todays society and although they have great social and cultural values, greenspaces are not accessabile to everyone and therefore, this map shows a robust approach on how you can analyse greensapce accessability. \n",
    "\n",
    "## Objectives \n",
    "1. Use `geopandas` to __load__ and __re-project__ data files into their correct __EPSG__\n",
    "2. Use `geodataframe` functions to __store__ settlement data as __centroids__, produce __connection lines__ between the nearest off-road trail and the nearest settlement and finally to __calculate__ the areas of the greenspace polygons\n",
    "3. Use `shapely` tools including _STRtree_, _nearest_points_ and _LineString_ to calculate the __Euclidean__ distance from each settlement to their closest off-road trail\n",
    "4. Use `folium` to create an __interactive__ web based map that includes various features like __popups__, __hovering__ over features and a __layer control panel__\n",
    "\n",
    "## Time to get started"
   ]
  },
  {
   "cell_type": "code",
   "execution_count": null,
   "id": "4aeb6fd0-ffc8-4e1b-80b0-14ebbe53e241",
   "metadata": {},
   "outputs": [],
   "source": [
    "\"\"\" \n",
    "Imports libaries and tools that are required to conduct the analysis. \n",
    "\"\"\"\n",
    "import geopandas as gpd\n",
    "import folium\n",
    "from shapely.geometry import LineString\n",
    "from shapely.strtree import STRtree\n",
    "from shapely.ops import nearest_points"
   ]
  },
  {
   "cell_type": "code",
   "execution_count": null,
   "id": "ed0de164-4151-40a8-b816-afe92fc9eb56",
   "metadata": {},
   "outputs": [],
   "source": [
    "\"\"\"\n",
    "Loads settlement, trail, and greenspace shapefiles.\n",
    "\"\"\"\n",
    "settlements = gpd.read_file(\"data/Settlements/settlements-2015-above-500-threshold.shp\")\n",
    "trails = gpd.read_file(\"data/Trails/greenspaceoffroadtrails.shp\")\n",
    "greenspace = gpd.read_file(\"data/Greenspace/greenspace.shp\")"
   ]
  },
  {
   "cell_type": "code",
   "execution_count": null,
   "id": "1646b7e9-dcc9-4853-94c5-d7b29bcedb32",
   "metadata": {},
   "outputs": [],
   "source": [
    "\"\"\"\n",
    "Checks the EPSG for the settlements data file.\n",
    "\"\"\"\n",
    "settlements.crs"
   ]
  },
  {
   "cell_type": "code",
   "execution_count": null,
   "id": "437670c1-2ee4-40ab-9fca-8f389ce1893d",
   "metadata": {},
   "outputs": [],
   "source": [
    "\"\"\"\n",
    "Checks the EPSG for the trails data file.\n",
    "\"\"\"\n",
    "trails.crs"
   ]
  },
  {
   "cell_type": "code",
   "execution_count": null,
   "id": "d1aebd69-4034-414e-8bb5-65625da56860",
   "metadata": {},
   "outputs": [],
   "source": [
    "\"\"\"\n",
    "Checks the EPSG for the greenspace data file.\n",
    "\"\"\"\n",
    "greenspace.crs"
   ]
  },
  {
   "cell_type": "code",
   "execution_count": null,
   "id": "969542ec-0752-4bf5-bcc3-2d7a96ee2ce0",
   "metadata": {},
   "outputs": [],
   "source": [
    "\"\"\"\n",
    "Reprojects all spatial layers to EPSG:3857, to ensure that area is calculated in the correct units. \n",
    "\"\"\"\n",
    "settlements = settlements.to_crs(epsg=3857)\n",
    "trails = trails.to_crs(epsg=3857)\n",
    "greenspace = greenspace.to_crs(epsg=3857)"
   ]
  },
  {
   "cell_type": "code",
   "execution_count": null,
   "id": "cac219b0-f9f8-4b61-b5b5-f0b8b33ed8c1",
   "metadata": {},
   "outputs": [],
   "source": [
    "\"\"\"\n",
    "Re-checks the EPSG for the settlements data file.\n",
    "\"\"\"\n",
    "settlements.crs"
   ]
  },
  {
   "cell_type": "code",
   "execution_count": null,
   "id": "e1ad130a-9754-4d33-a080-cb8ca55ba076",
   "metadata": {},
   "outputs": [],
   "source": [
    "\"\"\"\n",
    "Re-checks the EPSG for the trails data file.\n",
    "\"\"\"\n",
    "trails.crs"
   ]
  },
  {
   "cell_type": "code",
   "execution_count": null,
   "id": "4e1d7c62-0b62-4be2-93ea-3eecec84ecfc",
   "metadata": {},
   "outputs": [],
   "source": [
    "\"\"\"\n",
    "Re-checks the EPSG for the greenspace data file.\n",
    "\"\"\"\n",
    "greenspace.crs"
   ]
  },
  {
   "cell_type": "code",
   "execution_count": null,
   "id": "cd6d3db4-310e-4c3f-8dcf-be3f45585d2c",
   "metadata": {},
   "outputs": [],
   "source": [
    "\"\"\"\n",
    "Displays the first 5 rows of the greenspace shapefile.\n",
    "\"\"\"\n",
    "greenspace.head(5)"
   ]
  },
  {
   "cell_type": "code",
   "execution_count": null,
   "id": "23503cb9-d4df-47ca-9b39-4ef5030b9543",
   "metadata": {},
   "outputs": [],
   "source": [
    "\"\"\"\n",
    "Displays the first 5 rows of the settlements shapefile.\n",
    "\"\"\"\n",
    "settlements.head(5)"
   ]
  },
  {
   "cell_type": "code",
   "execution_count": null,
   "id": "70ca5d75-a63b-438a-9b2e-a55b14431149",
   "metadata": {},
   "outputs": [],
   "source": [
    "\"\"\"\n",
    "Displays the first 5 rows of the trails shapefile.\n",
    "\"\"\"\n",
    "trails.head(5)"
   ]
  },
  {
   "cell_type": "code",
   "execution_count": null,
   "id": "0bb3390f-3f74-4016-93cf-ab1a83b03c9e",
   "metadata": {},
   "outputs": [],
   "source": [
    "\"\"\"\n",
    "Rectifies invalid feature geometries to avoid errors during the distance calculations, spatial indexing when using STRtree and nearest_points and finally, to ensure the map is rendered smoothly.\n",
    "\"\"\"\n",
    "\n",
    "# Code for validating features is adapted from: https://app.readthedocs.org/projects/shapely/downloads/pdf/latest/\n",
    "settlements = settlements[settlements.is_valid]\n",
    "trails = trails[trails.is_valid]\n",
    "greenspace = greenspace[greenspace.is_valid]"
   ]
  },
  {
   "cell_type": "code",
   "execution_count": null,
   "id": "a5bdf820-fdcd-49be-bd86-db9b8511a70e",
   "metadata": {},
   "outputs": [],
   "source": [
    "\"\"\"\n",
    "Calculates area, converts it into hectares for each greenspace polygon and stores its data as centroids.\n",
    "\"\"\"\n",
    "if 'Area_Ha' not in greenspace.columns:\n",
    "    greenspace['Area_Ha'] = greenspace.geometry.area / 10_000  # Convert m² to ha for an accurate representation of area\n",
    "\n",
    "greenspace['centroid'] = greenspace.geometry.centroid # Adds a centriod column to the greenspace geo data frame"
   ]
  },
  {
   "cell_type": "code",
   "execution_count": null,
   "id": "8e665266-5a5b-4488-9f23-7262d40e068b",
   "metadata": {},
   "outputs": [],
   "source": [
    "\"\"\"\n",
    "Uses a spatial index through the STRtree and nearest_points functions to calculate and store the nearest off-road trial distance to the closest settlements. LineStrings is then used to visualise the distance between the two features \n",
    "\"\"\"\n",
    "\n",
    "# Code implementing STRtree and nearest_points functions is from: https://shapely.readthedocs.io/en/stable/strtree.html#r77d4c1f42cb7-1\n",
    "trail_geoms = trails.geometry.tolist() # Converts to a list of individual geometries\n",
    "trail_tree = STRtree(trail_geoms) # Generates a spatial index \n",
    "\n",
    "connection_lines = []  # Creates an empty list to hold LineStrings from settlements to off-road trails\n",
    "distances = []         # Creates an empty list to hold the calculated Euclidean distances in m\n",
    "\n",
    "for idx, row in settlements.iterrows(): # Loops through each settlement to process the following details:\n",
    "    point = row.geometry.centroid # Finds the center point of the settlements centriod \n",
    "    nearest_idx = trail_tree.nearest(point) # Finds which off-road trails are the closest to each settlement \n",
    "    nearest_geom = trail_geoms[nearest_idx] # Finds the geometry of those nearest off-road trials \n",
    "    nearest_point = nearest_points(point, nearest_geom)[1] # Finds the point on the off-road trail that is closest to the point on the settlement  \n",
    "\n",
    "    line = LineString([point, nearest_point]) # Connects the nearest off-road trail point to the nearest settlement point\n",
    "    distance = point.distance(nearest_point) # Measures the distance from the nearest off-road trails to the nearest settlement\n",
    "\n",
    "    connection_lines.append(line) # Stores the lines that connects the settlements to the off-road trails\n",
    "    distances.append(distance) # Stores the distance between the settlements and off-road trails \n",
    "\n",
    "connections = gpd.GeoDataFrame(\n",
    "    {'distance_m': distances}, # Adds the calculated distances as a new attribute called 'distance_m'\n",
    "    geometry=connection_lines, # Adds the calculates lines to the new attribute\n",
    "    crs=settlements.crs # Uses the same CRS as settlements data file\n",
    ")"
   ]
  },
  {
   "cell_type": "code",
   "execution_count": null,
   "id": "8fde7c00-1d46-46ec-8a4e-d8ee48b4be56",
   "metadata": {},
   "outputs": [],
   "source": [
    "\"\"\"\n",
    "Checks the EPSG of the connections file.\n",
    "\"\"\"\n",
    "connections.crs"
   ]
  },
  {
   "cell_type": "code",
   "execution_count": null,
   "id": "b5400546-8f39-4611-8b8a-aaadc6d34f6a",
   "metadata": {},
   "outputs": [],
   "source": [
    "\"\"\"\n",
    "Reprojects all spatial layers to EPSG:4326 to allow folium to operate.\n",
    "\"\"\"\n",
    "settlements = settlements.to_crs(epsg=4326)\n",
    "trails = trails.to_crs(epsg=4326)\n",
    "greenspace = greenspace.to_crs(epsg=4326)\n",
    "connections = connections.to_crs(epsg=4326)"
   ]
  },
  {
   "cell_type": "code",
   "execution_count": null,
   "id": "44cbc9d1-cdcd-4972-99a3-fb55e9d27d36",
   "metadata": {},
   "outputs": [],
   "source": [
    "\"\"\"\n",
    "Re-checks the EPSG of the settlements data file.\n",
    "\"\"\"\n",
    "settlements.crs"
   ]
  },
  {
   "cell_type": "code",
   "execution_count": null,
   "id": "1baf3e2d-bd7b-42e0-812d-f39010f292a2",
   "metadata": {},
   "outputs": [],
   "source": [
    "\"\"\"\n",
    "Re-checks the EPSG of the trails data file.\n",
    "\"\"\"\n",
    "trails.crs"
   ]
  },
  {
   "cell_type": "code",
   "execution_count": null,
   "id": "4a96b21c-3e96-431f-9445-9975042ccb4c",
   "metadata": {},
   "outputs": [],
   "source": [
    "\"\"\"\n",
    "Re-checks the EPSG of the greenspace data file.\n",
    "\"\"\"\n",
    "greenspace.crs"
   ]
  },
  {
   "cell_type": "code",
   "execution_count": null,
   "id": "11982a36-d097-4a19-9660-b31204732b8e",
   "metadata": {},
   "outputs": [],
   "source": [
    "\"\"\"\n",
    "Re-checks the EPSG of the connections data file.\n",
    "\"\"\"\n",
    "connections.crs"
   ]
  },
  {
   "cell_type": "code",
   "execution_count": null,
   "id": "3337983a-58bc-4b95-92cb-0a51d32930a5",
   "metadata": {},
   "outputs": [],
   "source": [
    "\"\"\"\n",
    "Creates a folium web map that centers the map to the centroids of all the settlement points.\n",
    "\"\"\"\n",
    "center = settlements.geometry.union_all().centroid # Merges the settlements before finding its centroid \n",
    "m = folium.Map(location=[center.y, center.x], zoom_start=8) # Sets the web map to open showing the center points of all settlements at a zoom of 8\n"
   ]
  },
  {
   "cell_type": "code",
   "execution_count": null,
   "id": "52080d7c-0ebc-4240-adee-984bf013546b",
   "metadata": {},
   "outputs": [],
   "source": [
    "\"\"\"\n",
    "Adds greenspace polygons to the map with popups revealing its name, category and area.\n",
    "\"\"\"\n",
    "\n",
    "# Code for lambda styling adapted from: https://medium.com/%40aakash013/geospatial-data-visualization-with-folium-geopandas-092673eeaa35  \n",
    "for _, row in greenspace.iterrows(): # Loops through each greenspace to process the following details:\n",
    "    popup = folium.Popup(\n",
    "        f\"<strong>Name:</strong> {row.get('Name', 'N/A')}<br>\" # Displays the name of each greenspace \n",
    "        f\"<strong>Category:</strong> {row.get('Category','N/A')}<br>\" # Displays the category of each greenspace \n",
    "        f\"<strong>Area:</strong> {round(row['Area_Ha'], 2)} ha\", # Displays the area of each greenspace \n",
    "        max_width=250\n",
    "    )\n",
    "    folium.GeoJson(\n",
    "        row.geometry,\n",
    "        style_function=lambda x: { # Style used \n",
    "            'fillColor': 'darkorange', # Fill colour\n",
    "            'color': 'darkorange', # Border colour \n",
    "            'fillOpacity': 0.4, # Transparency of the polygon \n",
    "            'weight': 0.5 # Thickness of border \n",
    "        },\n",
    "        popup=popup # Attaches the specified characteristics to the map\n",
    "    ).add_to(m) # Adds the style to the map"
   ]
  },
  {
   "cell_type": "code",
   "execution_count": null,
   "id": "3dbbde89-8960-420c-9432-a30a5a5d0b51",
   "metadata": {},
   "outputs": [],
   "source": [
    "\"\"\"\n",
    "Adds off-road trail lines to the map that are clickable and show the trail names.\n",
    "\"\"\"\n",
    "folium.GeoJson(\n",
    "    trails, # The file that contains the off-road trail entities \n",
    "    name='Trails', # The name of the layer in the layer control panel \n",
    "    style_function=lambda x: { # The visual style used  \n",
    "        'color': 'blue', # Off-road trail Colour \n",
    "        'weight': 2 # Thickness of off-road trail feature \n",
    "    },\n",
    "    tooltip=folium.GeoJsonTooltip( # Allows the feature to be hovered over \n",
    "        fields=['Name'], # Displays the name of the off-road trails            \n",
    "        aliases=['Trail Name:'], # How the 'Name' is labelled \n",
    "        localize=True,\n",
    "        sticky=True\n",
    "    )\n",
    ").add_to(m) # Adds the style to the map"
   ]
  },
  {
   "cell_type": "code",
   "execution_count": null,
   "id": "e0cbc942-0caa-4148-a5ab-b5e8c02efa8b",
   "metadata": {},
   "outputs": [],
   "source": [
    "\"\"\"\n",
    "Adds settlements to the map as black circles\n",
    "\"\"\"\n",
    "for _, row in settlements.iterrows(): # Loops through each settlement to process the following details:\n",
    "    centroid = row.geometry.centroid # Uses the center of the settlements \n",
    "    folium.CircleMarker(\n",
    "        location=[centroid.y, centroid.x], # Utalises the coordinates of the centroids\n",
    "        radius=4, # Size of the centroid\n",
    "        color='black', # Colour of the centroid\n",
    "        fill=True,\n",
    "        fill_opacity=0.7, # Transparency of the centroid\n",
    "        tooltip=row.get(\"Name\", \"N/A\") # Displays the name of each settlement \n",
    "    ).add_to(m) # Adds the style to the map"
   ]
  },
  {
   "cell_type": "code",
   "execution_count": null,
   "id": "3e7e7812-6f73-43e7-aa90-b0908a0acc4f",
   "metadata": {},
   "outputs": [],
   "source": [
    "\"\"\"\n",
    "Draws red lines from each settlement to the nearest off-road trail. Also allows off-road trail lines to be toggled on/off and when hovered over, it will reveal the calculated distances.\n",
    "\"\"\"\n",
    "folium.GeoJson(\n",
    "    connections, # The file that contains the connections entities\n",
    "    name='Nearest Trail Lines', # The name of the layer in the layer control panel \n",
    "    style_function=lambda x: { # The visual style used  \n",
    "        'color': 'red', # Connection lines colour\n",
    "        'weight': 1.5 # Thickness of the connections feature \n",
    "    },\n",
    "    tooltip=folium.GeoJsonTooltip( # Allows the feature to be hovered over \n",
    "        fields=['distance_m'], # Displays the calculated distance of the closest off-road trial to the closest settlement \n",
    "        aliases=['Distance (m):'], # How the 'Name' is labelled \n",
    "        localize=True\n",
    "    )\n",
    ").add_to(m) # Adds the style to the map   "
   ]
  },
  {
   "cell_type": "code",
   "execution_count": null,
   "id": "1d81d1d8-967c-4d98-9425-2af07127b462",
   "metadata": {},
   "outputs": [],
   "source": [
    "\"\"\"\n",
    "Adds a layer control panel to the web page and exports the map as a HTML file. \n",
    "\"\"\"\n",
    "\n",
    "# Code for layer control adapted from: https://python-visualization.github.io/folium/latest/user_guide/ui_elements/layer_control.html\n",
    "folium.LayerControl().add_to(m) # Enables the layer control panel\n",
    "m.save(\"nearest_trail_access_map.html\") # Creates the interactive web page \n",
    "\n",
    "print('nearest_trail_access_map.html') # Creates a saved file as an output "
   ]
  },
  {
   "cell_type": "markdown",
   "id": "8c5ddc1c-d19b-4975-baa4-1df4a2d6c5fa",
   "metadata": {},
   "source": [
    "## Conclusion \n",
    "I hope that this interactive web based map allows you to see how accessable a greenspace really is to you. If you get stuck, remember to use the tips in the how-to-guide and I hope that you have taken something away from this code. Thank you!!"
   ]
  },
  {
   "cell_type": "code",
   "execution_count": null,
   "id": "8d1c73f5-0811-4878-a828-8c05dc881972",
   "metadata": {},
   "outputs": [],
   "source": []
  }
 ],
 "metadata": {
  "kernelspec": {
   "display_name": "Python 3 (ipykernel)",
   "language": "python",
   "name": "python3"
  },
  "language_info": {
   "codemirror_mode": {
    "name": "ipython",
    "version": 3
   },
   "file_extension": ".py",
   "mimetype": "text/x-python",
   "name": "python",
   "nbconvert_exporter": "python",
   "pygments_lexer": "ipython3",
   "version": "3.13.3"
  }
 },
 "nbformat": 4,
 "nbformat_minor": 5
}
