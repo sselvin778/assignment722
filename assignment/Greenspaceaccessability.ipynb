{
 "cells": [
  {
   "cell_type": "markdown",
   "id": "de04d20b-77c2-4fe5-a3e0-9053fb0cb417",
   "metadata": {},
   "source": [
    "# Assessing greenspace accessability within Northern Ireland through an interactive map which calculates the nearest proximity of a settlement to its nearest off-road greensapce trial. \n",
    "## Overview \n",
    "In this code, you will see how you can use libaries like geopandas and folium in-conjunction with functions like STRtree and nearest_points, to understand how varied greenspace accessability really is within Northern Ireland. Whilst there are more accurate models of greenspace accessability within Northern Ireland, the importance of how accessable a greenspace is goes unnoticed in todays society and although they have great social and cultural values, greenspaces are not accessabile to everyone and therefore, this map shows a robust approach on how you can analyse greensapce accessability. \n",
    "\n",
    "## Objectives \n",
    "1. Use `geopandas` to __load__ and __re-project__ data files into their correct __EPSG__\n",
    "2. Use `geodataframe` functions to __store__ settlement data as __centroids__, produce __connection lines__ between the nearest off-road trail and the nearest settlement and finally to __calculate__ the areas of the greenspace polygons\n",
    "3. Use `shapely` tools including _STRtree_, _nearest_points_ and _LineString_ to calculate the __Euclidean__ distance from each settlement to their closest off-road trail\n",
    "4. Use `folium` to create an __interactive__ web based map that includes various features like __popups__, __hovering__ over features and a __layer control panel__\n",
    "\n",
    "## Time to get started"
   ]
  },
  {
   "cell_type": "code",
   "execution_count": 163,
   "id": "4aeb6fd0-ffc8-4e1b-80b0-14ebbe53e241",
   "metadata": {},
   "outputs": [],
   "source": [
    "\"\"\" \n",
    "Imports libaries and tools that are required to conduct the analysis. \n",
    "\"\"\"\n",
    "import geopandas as gpd\n",
    "import folium\n",
    "from shapely.geometry import LineString\n",
    "from shapely.strtree import STRtree\n",
    "from shapely.ops import nearest_points"
   ]
  },
  {
   "cell_type": "code",
   "execution_count": 164,
   "id": "ed0de164-4151-40a8-b816-afe92fc9eb56",
   "metadata": {},
   "outputs": [],
   "source": [
    "\"\"\"\n",
    "Loads settlement, trail, and greenspace shapefiles.\n",
    "\"\"\"\n",
    "settlements = gpd.read_file(\"data/Settlements/settlements-2015-above-500-threshold.shp\")\n",
    "trails = gpd.read_file(\"data/Trails/greenspaceoffroadtrails.shp\")\n",
    "greenspace = gpd.read_file(\"data/Greenspace/greenspace.shp\")"
   ]
  },
  {
   "cell_type": "code",
   "execution_count": 165,
   "id": "1646b7e9-dcc9-4853-94c5-d7b29bcedb32",
   "metadata": {},
   "outputs": [
    {
     "data": {
      "text/plain": [
       "<Projected CRS: EPSG:29902>\n",
       "Name: TM65 / Irish Grid\n",
       "Axis Info [cartesian]:\n",
       "- E[east]: Easting (metre)\n",
       "- N[north]: Northing (metre)\n",
       "Area of Use:\n",
       "- name: Ireland - onshore.\n",
       "- bounds: (-10.56, 51.39, -5.93, 55.43)\n",
       "Coordinate Operation:\n",
       "- name: Irish Grid\n",
       "- method: Transverse Mercator\n",
       "Datum: TM65\n",
       "- Ellipsoid: Airy Modified 1849\n",
       "- Prime Meridian: Greenwich"
      ]
     },
     "execution_count": 165,
     "metadata": {},
     "output_type": "execute_result"
    }
   ],
   "source": [
    "\"\"\"\n",
    "Checks the EPSG for the settlements data file.\n",
    "\"\"\"\n",
    "settlements.crs"
   ]
  },
  {
   "cell_type": "code",
   "execution_count": 166,
   "id": "437670c1-2ee4-40ab-9fca-8f389ce1893d",
   "metadata": {},
   "outputs": [
    {
     "data": {
      "text/plain": [
       "<Projected CRS: EPSG:29902>\n",
       "Name: TM65 / Irish Grid\n",
       "Axis Info [cartesian]:\n",
       "- E[east]: Easting (metre)\n",
       "- N[north]: Northing (metre)\n",
       "Area of Use:\n",
       "- name: Ireland - onshore.\n",
       "- bounds: (-10.56, 51.39, -5.93, 55.43)\n",
       "Coordinate Operation:\n",
       "- name: Irish Grid\n",
       "- method: Transverse Mercator\n",
       "Datum: TM65\n",
       "- Ellipsoid: Airy Modified 1849\n",
       "- Prime Meridian: Greenwich"
      ]
     },
     "execution_count": 166,
     "metadata": {},
     "output_type": "execute_result"
    }
   ],
   "source": [
    "\"\"\"\n",
    "Checks the EPSG for the trails data file.\n",
    "\"\"\"\n",
    "trails.crs"
   ]
  },
  {
   "cell_type": "code",
   "execution_count": 167,
   "id": "d1aebd69-4034-414e-8bb5-65625da56860",
   "metadata": {},
   "outputs": [
    {
     "data": {
      "text/plain": [
       "<Projected CRS: EPSG:29902>\n",
       "Name: TM65 / Irish Grid\n",
       "Axis Info [cartesian]:\n",
       "- E[east]: Easting (metre)\n",
       "- N[north]: Northing (metre)\n",
       "Area of Use:\n",
       "- name: Ireland - onshore.\n",
       "- bounds: (-10.56, 51.39, -5.93, 55.43)\n",
       "Coordinate Operation:\n",
       "- name: Irish Grid\n",
       "- method: Transverse Mercator\n",
       "Datum: TM65\n",
       "- Ellipsoid: Airy Modified 1849\n",
       "- Prime Meridian: Greenwich"
      ]
     },
     "execution_count": 167,
     "metadata": {},
     "output_type": "execute_result"
    }
   ],
   "source": [
    "\"\"\"\n",
    "Checks the EPSG for the greenspace data file.\n",
    "\"\"\"\n",
    "greenspace.crs"
   ]
  },
  {
   "cell_type": "code",
   "execution_count": 168,
   "id": "969542ec-0752-4bf5-bcc3-2d7a96ee2ce0",
   "metadata": {},
   "outputs": [],
   "source": [
    "\"\"\"\n",
    "Reprojects all spatial layers to EPSG:3857, to ensure that area is calculated in the correct units. \n",
    "\"\"\"\n",
    "settlements = settlements.to_crs(epsg=3857)\n",
    "trails = trails.to_crs(epsg=3857)\n",
    "greenspace = greenspace.to_crs(epsg=3857)"
   ]
  },
  {
   "cell_type": "code",
   "execution_count": 169,
   "id": "cac219b0-f9f8-4b61-b5b5-f0b8b33ed8c1",
   "metadata": {},
   "outputs": [
    {
     "data": {
      "text/plain": [
       "<Projected CRS: EPSG:3857>\n",
       "Name: WGS 84 / Pseudo-Mercator\n",
       "Axis Info [cartesian]:\n",
       "- X[east]: Easting (metre)\n",
       "- Y[north]: Northing (metre)\n",
       "Area of Use:\n",
       "- name: World between 85.06°S and 85.06°N.\n",
       "- bounds: (-180.0, -85.06, 180.0, 85.06)\n",
       "Coordinate Operation:\n",
       "- name: Popular Visualisation Pseudo-Mercator\n",
       "- method: Popular Visualisation Pseudo Mercator\n",
       "Datum: World Geodetic System 1984 ensemble\n",
       "- Ellipsoid: WGS 84\n",
       "- Prime Meridian: Greenwich"
      ]
     },
     "execution_count": 169,
     "metadata": {},
     "output_type": "execute_result"
    }
   ],
   "source": [
    "\"\"\"\n",
    "Re-checks the EPSG for the settlements data file.\n",
    "\"\"\"\n",
    "settlements.crs"
   ]
  },
  {
   "cell_type": "code",
   "execution_count": 170,
   "id": "e1ad130a-9754-4d33-a080-cb8ca55ba076",
   "metadata": {},
   "outputs": [
    {
     "data": {
      "text/plain": [
       "<Projected CRS: EPSG:3857>\n",
       "Name: WGS 84 / Pseudo-Mercator\n",
       "Axis Info [cartesian]:\n",
       "- X[east]: Easting (metre)\n",
       "- Y[north]: Northing (metre)\n",
       "Area of Use:\n",
       "- name: World between 85.06°S and 85.06°N.\n",
       "- bounds: (-180.0, -85.06, 180.0, 85.06)\n",
       "Coordinate Operation:\n",
       "- name: Popular Visualisation Pseudo-Mercator\n",
       "- method: Popular Visualisation Pseudo Mercator\n",
       "Datum: World Geodetic System 1984 ensemble\n",
       "- Ellipsoid: WGS 84\n",
       "- Prime Meridian: Greenwich"
      ]
     },
     "execution_count": 170,
     "metadata": {},
     "output_type": "execute_result"
    }
   ],
   "source": [
    "\"\"\"\n",
    "Re-checks the EPSG for the trails data file.\n",
    "\"\"\"\n",
    "trails.crs"
   ]
  },
  {
   "cell_type": "code",
   "execution_count": 171,
   "id": "4e1d7c62-0b62-4be2-93ea-3eecec84ecfc",
   "metadata": {},
   "outputs": [
    {
     "data": {
      "text/plain": [
       "<Projected CRS: EPSG:3857>\n",
       "Name: WGS 84 / Pseudo-Mercator\n",
       "Axis Info [cartesian]:\n",
       "- X[east]: Easting (metre)\n",
       "- Y[north]: Northing (metre)\n",
       "Area of Use:\n",
       "- name: World between 85.06°S and 85.06°N.\n",
       "- bounds: (-180.0, -85.06, 180.0, 85.06)\n",
       "Coordinate Operation:\n",
       "- name: Popular Visualisation Pseudo-Mercator\n",
       "- method: Popular Visualisation Pseudo Mercator\n",
       "Datum: World Geodetic System 1984 ensemble\n",
       "- Ellipsoid: WGS 84\n",
       "- Prime Meridian: Greenwich"
      ]
     },
     "execution_count": 171,
     "metadata": {},
     "output_type": "execute_result"
    }
   ],
   "source": [
    "\"\"\"\n",
    "Re-checks the EPSG for the greenspace data file.\n",
    "\"\"\"\n",
    "greenspace.crs"
   ]
  },
  {
   "cell_type": "code",
   "execution_count": 172,
   "id": "cd6d3db4-310e-4c3f-8dcf-be3f45585d2c",
   "metadata": {},
   "outputs": [
    {
     "data": {
      "text/html": [
       "<div>\n",
       "<style scoped>\n",
       "    .dataframe tbody tr th:only-of-type {\n",
       "        vertical-align: middle;\n",
       "    }\n",
       "\n",
       "    .dataframe tbody tr th {\n",
       "        vertical-align: top;\n",
       "    }\n",
       "\n",
       "    .dataframe thead th {\n",
       "        text-align: right;\n",
       "    }\n",
       "</style>\n",
       "<table border=\"1\" class=\"dataframe\">\n",
       "  <thead>\n",
       "    <tr style=\"text-align: right;\">\n",
       "      <th></th>\n",
       "      <th>SourceID</th>\n",
       "      <th>GUID</th>\n",
       "      <th>Name</th>\n",
       "      <th>Source</th>\n",
       "      <th>Category</th>\n",
       "      <th>Type</th>\n",
       "      <th>PaidAccess</th>\n",
       "      <th>Area_Ha</th>\n",
       "      <th>Verified</th>\n",
       "      <th>ShowOnMap</th>\n",
       "      <th>ORNI_ID</th>\n",
       "      <th>DataAdded</th>\n",
       "      <th>SiteCreate</th>\n",
       "      <th>geometry</th>\n",
       "    </tr>\n",
       "  </thead>\n",
       "  <tbody>\n",
       "    <tr>\n",
       "      <th>0</th>\n",
       "      <td>None</td>\n",
       "      <td>{68D2DF20-1512-4218-A759-1000732E93B0}</td>\n",
       "      <td>Conservation Volunteers NI</td>\n",
       "      <td>LPS and Outscape</td>\n",
       "      <td>Amenity Greenspace</td>\n",
       "      <td>Community Garden</td>\n",
       "      <td>No</td>\n",
       "      <td>0.668234</td>\n",
       "      <td>Approximated</td>\n",
       "      <td>Yes</td>\n",
       "      <td>51</td>\n",
       "      <td>2022-09-21</td>\n",
       "      <td>Pre 2023</td>\n",
       "      <td>POLYGON Z ((-658305.131 7272616.366 0, -658467...</td>\n",
       "    </tr>\n",
       "    <tr>\n",
       "      <th>1</th>\n",
       "      <td>None</td>\n",
       "      <td>{7B20F220-682E-4566-A4FE-2513CC65ED6E}</td>\n",
       "      <td>Lough Shore Park</td>\n",
       "      <td>Antrim and Newtownabbey Borough Council</td>\n",
       "      <td>Parks and Gardens</td>\n",
       "      <td>Public Park</td>\n",
       "      <td>No</td>\n",
       "      <td>6.598284</td>\n",
       "      <td>Approximated</td>\n",
       "      <td>Yes</td>\n",
       "      <td>61</td>\n",
       "      <td>2022-09-21</td>\n",
       "      <td>Pre 2023</td>\n",
       "      <td>POLYGON Z ((-694569.114 7306677.129 0, -694647...</td>\n",
       "    </tr>\n",
       "    <tr>\n",
       "      <th>2</th>\n",
       "      <td>None</td>\n",
       "      <td>{8A4B8A31-EBA9-4E7A-B8D5-CEA0724D848D}</td>\n",
       "      <td>Ardmore Recreation Centre</td>\n",
       "      <td>Armagh City, Banbridge and Craigavon Borough C...</td>\n",
       "      <td>Amenity Greenspace</td>\n",
       "      <td>Playing Fields</td>\n",
       "      <td>No</td>\n",
       "      <td>2.969549</td>\n",
       "      <td>Approximated</td>\n",
       "      <td>Yes</td>\n",
       "      <td>67</td>\n",
       "      <td>2022-09-21</td>\n",
       "      <td>Pre 2023</td>\n",
       "      <td>POLYGON Z ((-737723.904 7234648.427 0, -737711...</td>\n",
       "    </tr>\n",
       "    <tr>\n",
       "      <th>3</th>\n",
       "      <td>None</td>\n",
       "      <td>{36F2A040-649C-4EB5-9174-7B25C083F489}</td>\n",
       "      <td>Clare Glen - Phase 3 - Link Footpath/River Wal...</td>\n",
       "      <td>Armagh City, Banbridge and Craigavon Borough C...</td>\n",
       "      <td>Woodland</td>\n",
       "      <td>Woodland</td>\n",
       "      <td>No</td>\n",
       "      <td>3.396109</td>\n",
       "      <td>Approximated</td>\n",
       "      <td>Yes</td>\n",
       "      <td>69</td>\n",
       "      <td>2022-09-21</td>\n",
       "      <td>Pre 2023</td>\n",
       "      <td>POLYGON Z ((-713809.418 7236506.822 0, -713812...</td>\n",
       "    </tr>\n",
       "    <tr>\n",
       "      <th>4</th>\n",
       "      <td>None</td>\n",
       "      <td>{2F586E46-B9EE-4D13-83B1-9B254FA3A698}</td>\n",
       "      <td>Folly Glen, Armagh</td>\n",
       "      <td>Armagh City, Banbridge and Craigavon Borough C...</td>\n",
       "      <td>Woodland</td>\n",
       "      <td>Woodland</td>\n",
       "      <td>No</td>\n",
       "      <td>7.849400</td>\n",
       "      <td>Approximated</td>\n",
       "      <td>Yes</td>\n",
       "      <td>70</td>\n",
       "      <td>2022-09-21</td>\n",
       "      <td>Pre 2023</td>\n",
       "      <td>MULTIPOLYGON Z (((-738837.244 7234074.082 0, -...</td>\n",
       "    </tr>\n",
       "  </tbody>\n",
       "</table>\n",
       "</div>"
      ],
      "text/plain": [
       "  SourceID                                    GUID  \\\n",
       "0     None  {68D2DF20-1512-4218-A759-1000732E93B0}   \n",
       "1     None  {7B20F220-682E-4566-A4FE-2513CC65ED6E}   \n",
       "2     None  {8A4B8A31-EBA9-4E7A-B8D5-CEA0724D848D}   \n",
       "3     None  {36F2A040-649C-4EB5-9174-7B25C083F489}   \n",
       "4     None  {2F586E46-B9EE-4D13-83B1-9B254FA3A698}   \n",
       "\n",
       "                                                Name  \\\n",
       "0                         Conservation Volunteers NI   \n",
       "1                                   Lough Shore Park   \n",
       "2                          Ardmore Recreation Centre   \n",
       "3  Clare Glen - Phase 3 - Link Footpath/River Wal...   \n",
       "4                                 Folly Glen, Armagh   \n",
       "\n",
       "                                              Source            Category  \\\n",
       "0                                   LPS and Outscape  Amenity Greenspace   \n",
       "1            Antrim and Newtownabbey Borough Council   Parks and Gardens   \n",
       "2  Armagh City, Banbridge and Craigavon Borough C...  Amenity Greenspace   \n",
       "3  Armagh City, Banbridge and Craigavon Borough C...            Woodland   \n",
       "4  Armagh City, Banbridge and Craigavon Borough C...            Woodland   \n",
       "\n",
       "               Type PaidAccess   Area_Ha      Verified ShowOnMap  ORNI_ID  \\\n",
       "0  Community Garden         No  0.668234  Approximated       Yes       51   \n",
       "1       Public Park         No  6.598284  Approximated       Yes       61   \n",
       "2    Playing Fields         No  2.969549  Approximated       Yes       67   \n",
       "3          Woodland         No  3.396109  Approximated       Yes       69   \n",
       "4          Woodland         No  7.849400  Approximated       Yes       70   \n",
       "\n",
       "   DataAdded SiteCreate                                           geometry  \n",
       "0 2022-09-21   Pre 2023  POLYGON Z ((-658305.131 7272616.366 0, -658467...  \n",
       "1 2022-09-21   Pre 2023  POLYGON Z ((-694569.114 7306677.129 0, -694647...  \n",
       "2 2022-09-21   Pre 2023  POLYGON Z ((-737723.904 7234648.427 0, -737711...  \n",
       "3 2022-09-21   Pre 2023  POLYGON Z ((-713809.418 7236506.822 0, -713812...  \n",
       "4 2022-09-21   Pre 2023  MULTIPOLYGON Z (((-738837.244 7234074.082 0, -...  "
      ]
     },
     "execution_count": 172,
     "metadata": {},
     "output_type": "execute_result"
    }
   ],
   "source": [
    "\"\"\"\n",
    "Displays the first 5 rows of the greenspace shapefile.\n",
    "\"\"\"\n",
    "greenspace.head(5)"
   ]
  },
  {
   "cell_type": "code",
   "execution_count": 173,
   "id": "23503cb9-d4df-47ca-9b39-4ef5030b9543",
   "metadata": {},
   "outputs": [
    {
     "data": {
      "text/html": [
       "<div>\n",
       "<style scoped>\n",
       "    .dataframe tbody tr th:only-of-type {\n",
       "        vertical-align: middle;\n",
       "    }\n",
       "\n",
       "    .dataframe tbody tr th {\n",
       "        vertical-align: top;\n",
       "    }\n",
       "\n",
       "    .dataframe thead th {\n",
       "        text-align: right;\n",
       "    }\n",
       "</style>\n",
       "<table border=\"1\" class=\"dataframe\">\n",
       "  <thead>\n",
       "    <tr style=\"text-align: right;\">\n",
       "      <th></th>\n",
       "      <th>Code</th>\n",
       "      <th>Name</th>\n",
       "      <th>Band</th>\n",
       "      <th>DT_20MIN</th>\n",
       "      <th>DT_30MIN</th>\n",
       "      <th>UR_ex</th>\n",
       "      <th>OccHH_ex</th>\n",
       "      <th>UR_ap</th>\n",
       "      <th>OccHH_ap</th>\n",
       "      <th>geometry</th>\n",
       "    </tr>\n",
       "  </thead>\n",
       "  <tbody>\n",
       "    <tr>\n",
       "      <th>0</th>\n",
       "      <td>N11000199</td>\n",
       "      <td>DUNNAMORE</td>\n",
       "      <td>H</td>\n",
       "      <td>Y</td>\n",
       "      <td>Y</td>\n",
       "      <td>119.0</td>\n",
       "      <td>35.0</td>\n",
       "      <td>119.0</td>\n",
       "      <td>35.0</td>\n",
       "      <td>MULTIPOLYGON (((-771836.094 7298554.224, -7717...</td>\n",
       "    </tr>\n",
       "    <tr>\n",
       "      <th>1</th>\n",
       "      <td>N11000015</td>\n",
       "      <td>BALLYBARNES</td>\n",
       "      <td>H</td>\n",
       "      <td>Y</td>\n",
       "      <td>Y</td>\n",
       "      <td>242.0</td>\n",
       "      <td>101.0</td>\n",
       "      <td>243.0</td>\n",
       "      <td>102.0</td>\n",
       "      <td>POLYGON ((-639797.918 7285752.046, -639794.956...</td>\n",
       "    </tr>\n",
       "    <tr>\n",
       "      <th>2</th>\n",
       "      <td>N11000121</td>\n",
       "      <td>LOUGHGUILE</td>\n",
       "      <td>H</td>\n",
       "      <td>N</td>\n",
       "      <td>Y</td>\n",
       "      <td>396.0</td>\n",
       "      <td>128.0</td>\n",
       "      <td>396.0</td>\n",
       "      <td>128.0</td>\n",
       "      <td>POLYGON ((-702052.069 7374194.437, -702048.944...</td>\n",
       "    </tr>\n",
       "    <tr>\n",
       "      <th>3</th>\n",
       "      <td>N11000265</td>\n",
       "      <td>BRYANSFORD</td>\n",
       "      <td>H</td>\n",
       "      <td>N</td>\n",
       "      <td>Y</td>\n",
       "      <td>306.0</td>\n",
       "      <td>114.0</td>\n",
       "      <td>309.0</td>\n",
       "      <td>115.0</td>\n",
       "      <td>POLYGON ((-661378.035 7213541.816, -661374.07 ...</td>\n",
       "    </tr>\n",
       "    <tr>\n",
       "      <th>4</th>\n",
       "      <td>N11000636</td>\n",
       "      <td>SION MILLS</td>\n",
       "      <td>G</td>\n",
       "      <td>Y</td>\n",
       "      <td>Y</td>\n",
       "      <td>1903.0</td>\n",
       "      <td>769.0</td>\n",
       "      <td>1907.0</td>\n",
       "      <td>770.0</td>\n",
       "      <td>POLYGON ((-832102.671 7319464.147, -832105.467...</td>\n",
       "    </tr>\n",
       "  </tbody>\n",
       "</table>\n",
       "</div>"
      ],
      "text/plain": [
       "        Code         Name Band DT_20MIN DT_30MIN   UR_ex  OccHH_ex   UR_ap  \\\n",
       "0  N11000199    DUNNAMORE    H        Y        Y   119.0      35.0   119.0   \n",
       "1  N11000015  BALLYBARNES    H        Y        Y   242.0     101.0   243.0   \n",
       "2  N11000121   LOUGHGUILE    H        N        Y   396.0     128.0   396.0   \n",
       "3  N11000265   BRYANSFORD    H        N        Y   306.0     114.0   309.0   \n",
       "4  N11000636   SION MILLS    G        Y        Y  1903.0     769.0  1907.0   \n",
       "\n",
       "   OccHH_ap                                           geometry  \n",
       "0      35.0  MULTIPOLYGON (((-771836.094 7298554.224, -7717...  \n",
       "1     102.0  POLYGON ((-639797.918 7285752.046, -639794.956...  \n",
       "2     128.0  POLYGON ((-702052.069 7374194.437, -702048.944...  \n",
       "3     115.0  POLYGON ((-661378.035 7213541.816, -661374.07 ...  \n",
       "4     770.0  POLYGON ((-832102.671 7319464.147, -832105.467...  "
      ]
     },
     "execution_count": 173,
     "metadata": {},
     "output_type": "execute_result"
    }
   ],
   "source": [
    "\"\"\"\n",
    "Displays the first 5 rows of the settlements shapefile.\n",
    "\"\"\"\n",
    "settlements.head(5)"
   ]
  },
  {
   "cell_type": "code",
   "execution_count": 174,
   "id": "70ca5d75-a63b-438a-9b2e-a55b14431149",
   "metadata": {},
   "outputs": [
    {
     "data": {
      "text/html": [
       "<div>\n",
       "<style scoped>\n",
       "    .dataframe tbody tr th:only-of-type {\n",
       "        vertical-align: middle;\n",
       "    }\n",
       "\n",
       "    .dataframe tbody tr th {\n",
       "        vertical-align: top;\n",
       "    }\n",
       "\n",
       "    .dataframe thead th {\n",
       "        text-align: right;\n",
       "    }\n",
       "</style>\n",
       "<table border=\"1\" class=\"dataframe\">\n",
       "  <thead>\n",
       "    <tr style=\"text-align: right;\">\n",
       "      <th></th>\n",
       "      <th>ID</th>\n",
       "      <th>Name</th>\n",
       "      <th>SourceID</th>\n",
       "      <th>Source</th>\n",
       "      <th>GUID</th>\n",
       "      <th>Category</th>\n",
       "      <th>Type</th>\n",
       "      <th>Descriptio</th>\n",
       "      <th>On_Road</th>\n",
       "      <th>Length</th>\n",
       "      <th>Verified</th>\n",
       "      <th>ShowOnMap</th>\n",
       "      <th>County</th>\n",
       "      <th>UpdateDate</th>\n",
       "      <th>Trail_Usea</th>\n",
       "      <th>Infrastruc</th>\n",
       "      <th>geometry</th>\n",
       "    </tr>\n",
       "  </thead>\n",
       "  <tbody>\n",
       "    <tr>\n",
       "      <th>0</th>\n",
       "      <td>0</td>\n",
       "      <td>Annalong Coastal Path</td>\n",
       "      <td>166</td>\n",
       "      <td>Outscape</td>\n",
       "      <td>{7a03aac4-145f-436f-9320-45b533fc5930}</td>\n",
       "      <td>Single-Use Trail</td>\n",
       "      <td>Walking Trail</td>\n",
       "      <td>Short Walks (up to 5 miles)</td>\n",
       "      <td>False</td>\n",
       "      <td>1.055094</td>\n",
       "      <td>None</td>\n",
       "      <td>Yes</td>\n",
       "      <td>Down</td>\n",
       "      <td>None</td>\n",
       "      <td>Walking</td>\n",
       "      <td>False</td>\n",
       "      <td>LINESTRING Z (-656477.346 7190872.985 0, -6564...</td>\n",
       "    </tr>\n",
       "    <tr>\n",
       "      <th>1</th>\n",
       "      <td>0</td>\n",
       "      <td>Antrim Hills Way</td>\n",
       "      <td>104</td>\n",
       "      <td>Outscape</td>\n",
       "      <td>{c89d5023-1fe8-4def-b9d6-9efdc833540a}</td>\n",
       "      <td>Single-Use Trail</td>\n",
       "      <td>Walking Trail</td>\n",
       "      <td>Long Walks (over 20 miles)</td>\n",
       "      <td>False</td>\n",
       "      <td>23.081263</td>\n",
       "      <td>None</td>\n",
       "      <td>Yes</td>\n",
       "      <td>Antrim</td>\n",
       "      <td>None</td>\n",
       "      <td>Walking</td>\n",
       "      <td>False</td>\n",
       "      <td>LINESTRING Z (-662985.466 7355853.417 0, -6629...</td>\n",
       "    </tr>\n",
       "    <tr>\n",
       "      <th>2</th>\n",
       "      <td>0</td>\n",
       "      <td>Ardress House - Ladies Mile</td>\n",
       "      <td>149</td>\n",
       "      <td>Outscape</td>\n",
       "      <td>{0a2fe306-5136-48e1-9a09-067c5dffe2d8}</td>\n",
       "      <td>Single-Use Trail</td>\n",
       "      <td>Walking Trail</td>\n",
       "      <td>Short Walks (up to 5 miles)</td>\n",
       "      <td>False</td>\n",
       "      <td>0.949078</td>\n",
       "      <td>None</td>\n",
       "      <td>Yes</td>\n",
       "      <td>Armagh</td>\n",
       "      <td>None</td>\n",
       "      <td>Walking</td>\n",
       "      <td>False</td>\n",
       "      <td>LINESTRING Z (-733785.916 7254732.363 0, -7337...</td>\n",
       "    </tr>\n",
       "    <tr>\n",
       "      <th>3</th>\n",
       "      <td>0</td>\n",
       "      <td>Argory Blackwater River Walk</td>\n",
       "      <td>724</td>\n",
       "      <td>Outscape</td>\n",
       "      <td>{4b801c6c-fab1-4b9e-a475-e2c79be826bc}</td>\n",
       "      <td>Single-Use Trail</td>\n",
       "      <td>Walking Trail</td>\n",
       "      <td>Short Walks (up to 5 miles)</td>\n",
       "      <td>False</td>\n",
       "      <td>1.546865</td>\n",
       "      <td>None</td>\n",
       "      <td>Yes</td>\n",
       "      <td>Armagh</td>\n",
       "      <td>None</td>\n",
       "      <td>Walking</td>\n",
       "      <td>False</td>\n",
       "      <td>LINESTRING Z (-740877.981 7258706.199 0, -7408...</td>\n",
       "    </tr>\n",
       "    <tr>\n",
       "      <th>4</th>\n",
       "      <td>0</td>\n",
       "      <td>Argory Lime Tree Walk</td>\n",
       "      <td>319</td>\n",
       "      <td>Outscape</td>\n",
       "      <td>{3c967a01-0486-4f4c-9924-2d9a888e087a}</td>\n",
       "      <td>Single-Use Trail</td>\n",
       "      <td>Walking Trail</td>\n",
       "      <td>Short Walks (up to 5 miles)</td>\n",
       "      <td>False</td>\n",
       "      <td>0.955559</td>\n",
       "      <td>None</td>\n",
       "      <td>Yes</td>\n",
       "      <td>Armagh</td>\n",
       "      <td>None</td>\n",
       "      <td>Walking</td>\n",
       "      <td>False</td>\n",
       "      <td>LINESTRING Z (-740877.981 7258706.199 0, -7408...</td>\n",
       "    </tr>\n",
       "  </tbody>\n",
       "</table>\n",
       "</div>"
      ],
      "text/plain": [
       "   ID                          Name SourceID    Source  \\\n",
       "0   0         Annalong Coastal Path      166  Outscape   \n",
       "1   0              Antrim Hills Way      104  Outscape   \n",
       "2   0   Ardress House - Ladies Mile      149  Outscape   \n",
       "3   0  Argory Blackwater River Walk      724  Outscape   \n",
       "4   0         Argory Lime Tree Walk      319  Outscape   \n",
       "\n",
       "                                     GUID          Category           Type  \\\n",
       "0  {7a03aac4-145f-436f-9320-45b533fc5930}  Single-Use Trail  Walking Trail   \n",
       "1  {c89d5023-1fe8-4def-b9d6-9efdc833540a}  Single-Use Trail  Walking Trail   \n",
       "2  {0a2fe306-5136-48e1-9a09-067c5dffe2d8}  Single-Use Trail  Walking Trail   \n",
       "3  {4b801c6c-fab1-4b9e-a475-e2c79be826bc}  Single-Use Trail  Walking Trail   \n",
       "4  {3c967a01-0486-4f4c-9924-2d9a888e087a}  Single-Use Trail  Walking Trail   \n",
       "\n",
       "                    Descriptio On_Road     Length Verified ShowOnMap  County  \\\n",
       "0  Short Walks (up to 5 miles)   False   1.055094     None       Yes    Down   \n",
       "1   Long Walks (over 20 miles)   False  23.081263     None       Yes  Antrim   \n",
       "2  Short Walks (up to 5 miles)   False   0.949078     None       Yes  Armagh   \n",
       "3  Short Walks (up to 5 miles)   False   1.546865     None       Yes  Armagh   \n",
       "4  Short Walks (up to 5 miles)   False   0.955559     None       Yes  Armagh   \n",
       "\n",
       "  UpdateDate Trail_Usea Infrastruc  \\\n",
       "0       None    Walking      False   \n",
       "1       None    Walking      False   \n",
       "2       None    Walking      False   \n",
       "3       None    Walking      False   \n",
       "4       None    Walking      False   \n",
       "\n",
       "                                            geometry  \n",
       "0  LINESTRING Z (-656477.346 7190872.985 0, -6564...  \n",
       "1  LINESTRING Z (-662985.466 7355853.417 0, -6629...  \n",
       "2  LINESTRING Z (-733785.916 7254732.363 0, -7337...  \n",
       "3  LINESTRING Z (-740877.981 7258706.199 0, -7408...  \n",
       "4  LINESTRING Z (-740877.981 7258706.199 0, -7408...  "
      ]
     },
     "execution_count": 174,
     "metadata": {},
     "output_type": "execute_result"
    }
   ],
   "source": [
    "\"\"\"\n",
    "Displays the first 5 rows of the trails shapefile.\n",
    "\"\"\"\n",
    "trails.head(5)"
   ]
  },
  {
   "cell_type": "code",
   "execution_count": 175,
   "id": "0bb3390f-3f74-4016-93cf-ab1a83b03c9e",
   "metadata": {},
   "outputs": [],
   "source": [
    "\"\"\"\n",
    "Rectifies invalid feature geometries to avoid errors during the distance calculations, spatial indexing when using STRtree and nearest_points and finally, to ensure the map is rendered smoothly.\n",
    "\"\"\"\n",
    "\n",
    "# Code for validating features is adapted from: https://app.readthedocs.org/projects/shapely/downloads/pdf/latest/\n",
    "settlements = settlements[settlements.is_valid]\n",
    "trails = trails[trails.is_valid]\n",
    "greenspace = greenspace[greenspace.is_valid]"
   ]
  },
  {
   "cell_type": "code",
   "execution_count": 176,
   "id": "a5bdf820-fdcd-49be-bd86-db9b8511a70e",
   "metadata": {},
   "outputs": [],
   "source": [
    "\"\"\"\n",
    "Calculates area, converts it into hectares for each greenspace polygon and stores its data as centroids.\n",
    "\"\"\"\n",
    "if 'Area_Ha' not in greenspace.columns:\n",
    "    greenspace['Area_Ha'] = greenspace.geometry.area / 10_000  # Convert m² to ha for an accurate representation of area\n",
    "\n",
    "greenspace['centroid'] = greenspace.geometry.centroid # Adds a centriod column to the greenspace geo data frame"
   ]
  },
  {
   "cell_type": "code",
   "execution_count": 177,
   "id": "8e665266-5a5b-4488-9f23-7262d40e068b",
   "metadata": {},
   "outputs": [],
   "source": [
    "\"\"\"\n",
    "Uses a spatial index through the STRtree and nearest_points functions to calculate and store the nearest off-road trial distance to the closest settlements. \n",
    "\"\"\"\n",
    "\n",
    "# Code implementing STRtree and nearest_points is from: https://shapely.readthedocs.io/en/stable/strtree.html#r77d4c1f42cb7-1\n",
    "trail_geoms = trails.geometry.tolist() # Converts to a list of individual geometries\n",
    "trail_tree = STRtree(trail_geoms) # Generate a spatial index \n",
    "\n",
    "connection_lines = []  # Creates an empty list to hold LineStrings from settlements to off-road trails\n",
    "distances = []         # Creates an empty list to hold the calculated Euclidean distances in m\n",
    "\n",
    "for idx, row in settlements.iterrows(): # Loops through each settlement to process the following details:\n",
    "    point = row.geometry.centroid # Finds the center point of the settlements centriod \n",
    "    nearest_idx = trail_tree.nearest(point) # Find which off-road trail is the closest to each settlement \n",
    "    nearest_geom = trail_geoms[nearest_idx] # Finds the geometry of those nearest off-road trials \n",
    "    nearest_point = nearest_points(point, nearest_geom)[1] # Finds the point on the off-road trail that is closest to the point on the settlement  \n",
    "\n",
    "    line = LineString([point, nearest_point]) # Connects the nearest off-road trail point to the nearest settlement point\n",
    "    distance = point.distance(nearest_point) # Measures the distance from the nearest off-road trails to the nearest settlement\n",
    "\n",
    "    connection_lines.append(line) # Stores the lines that connects the settlements to the off-road trails\n",
    "    distances.append(distance) # Saves the distance between the settlements and off-road trails \n",
    "\n",
    "connections = gpd.GeoDataFrame(\n",
    "    {'distance_m': distances}, # Adds the calculated distances as a new attribute called 'distance_m'\n",
    "    geometry=connection_lines, # Adds the calculates lines to the new attribute\n",
    "    crs=settlements.crs # Set to use the same CRS as settlements\n",
    ")"
   ]
  },
  {
   "cell_type": "code",
   "execution_count": 178,
   "id": "8fde7c00-1d46-46ec-8a4e-d8ee48b4be56",
   "metadata": {},
   "outputs": [
    {
     "data": {
      "text/plain": [
       "<Projected CRS: EPSG:3857>\n",
       "Name: WGS 84 / Pseudo-Mercator\n",
       "Axis Info [cartesian]:\n",
       "- X[east]: Easting (metre)\n",
       "- Y[north]: Northing (metre)\n",
       "Area of Use:\n",
       "- name: World between 85.06°S and 85.06°N.\n",
       "- bounds: (-180.0, -85.06, 180.0, 85.06)\n",
       "Coordinate Operation:\n",
       "- name: Popular Visualisation Pseudo-Mercator\n",
       "- method: Popular Visualisation Pseudo Mercator\n",
       "Datum: World Geodetic System 1984 ensemble\n",
       "- Ellipsoid: WGS 84\n",
       "- Prime Meridian: Greenwich"
      ]
     },
     "execution_count": 178,
     "metadata": {},
     "output_type": "execute_result"
    }
   ],
   "source": [
    "\"\"\"\n",
    "Checks the EPSG of the connections file.\n",
    "\"\"\"\n",
    "connections.crs"
   ]
  },
  {
   "cell_type": "code",
   "execution_count": 179,
   "id": "b5400546-8f39-4611-8b8a-aaadc6d34f6a",
   "metadata": {},
   "outputs": [],
   "source": [
    "\"\"\"\n",
    "Reprojects all spatial layers to EPSG:4326 to allow folium to operate.\n",
    "\"\"\"\n",
    "settlements = settlements.to_crs(epsg=4326)\n",
    "trails = trails.to_crs(epsg=4326)\n",
    "greenspace = greenspace.to_crs(epsg=4326)\n",
    "connections = connections.to_crs(epsg=4326)"
   ]
  },
  {
   "cell_type": "code",
   "execution_count": 180,
   "id": "44cbc9d1-cdcd-4972-99a3-fb55e9d27d36",
   "metadata": {},
   "outputs": [
    {
     "data": {
      "text/plain": [
       "<Geographic 2D CRS: EPSG:4326>\n",
       "Name: WGS 84\n",
       "Axis Info [ellipsoidal]:\n",
       "- Lat[north]: Geodetic latitude (degree)\n",
       "- Lon[east]: Geodetic longitude (degree)\n",
       "Area of Use:\n",
       "- name: World.\n",
       "- bounds: (-180.0, -90.0, 180.0, 90.0)\n",
       "Datum: World Geodetic System 1984 ensemble\n",
       "- Ellipsoid: WGS 84\n",
       "- Prime Meridian: Greenwich"
      ]
     },
     "execution_count": 180,
     "metadata": {},
     "output_type": "execute_result"
    }
   ],
   "source": [
    "\"\"\"\n",
    "Re-checks the EPSG of the settlements data file.\n",
    "\"\"\"\n",
    "settlements.crs"
   ]
  },
  {
   "cell_type": "code",
   "execution_count": 181,
   "id": "1baf3e2d-bd7b-42e0-812d-f39010f292a2",
   "metadata": {},
   "outputs": [
    {
     "data": {
      "text/plain": [
       "<Geographic 2D CRS: EPSG:4326>\n",
       "Name: WGS 84\n",
       "Axis Info [ellipsoidal]:\n",
       "- Lat[north]: Geodetic latitude (degree)\n",
       "- Lon[east]: Geodetic longitude (degree)\n",
       "Area of Use:\n",
       "- name: World.\n",
       "- bounds: (-180.0, -90.0, 180.0, 90.0)\n",
       "Datum: World Geodetic System 1984 ensemble\n",
       "- Ellipsoid: WGS 84\n",
       "- Prime Meridian: Greenwich"
      ]
     },
     "execution_count": 181,
     "metadata": {},
     "output_type": "execute_result"
    }
   ],
   "source": [
    "\"\"\"\n",
    "Re-checks the EPSG of the trails data file.\n",
    "\"\"\"\n",
    "trails.crs"
   ]
  },
  {
   "cell_type": "code",
   "execution_count": 182,
   "id": "4a96b21c-3e96-431f-9445-9975042ccb4c",
   "metadata": {},
   "outputs": [
    {
     "data": {
      "text/plain": [
       "<Geographic 2D CRS: EPSG:4326>\n",
       "Name: WGS 84\n",
       "Axis Info [ellipsoidal]:\n",
       "- Lat[north]: Geodetic latitude (degree)\n",
       "- Lon[east]: Geodetic longitude (degree)\n",
       "Area of Use:\n",
       "- name: World.\n",
       "- bounds: (-180.0, -90.0, 180.0, 90.0)\n",
       "Datum: World Geodetic System 1984 ensemble\n",
       "- Ellipsoid: WGS 84\n",
       "- Prime Meridian: Greenwich"
      ]
     },
     "execution_count": 182,
     "metadata": {},
     "output_type": "execute_result"
    }
   ],
   "source": [
    "\"\"\"\n",
    "Re-checks the EPSG of the greenspace data file.\n",
    "\"\"\"\n",
    "greenspace.crs"
   ]
  },
  {
   "cell_type": "code",
   "execution_count": 183,
   "id": "11982a36-d097-4a19-9660-b31204732b8e",
   "metadata": {},
   "outputs": [
    {
     "data": {
      "text/plain": [
       "<Geographic 2D CRS: EPSG:4326>\n",
       "Name: WGS 84\n",
       "Axis Info [ellipsoidal]:\n",
       "- Lat[north]: Geodetic latitude (degree)\n",
       "- Lon[east]: Geodetic longitude (degree)\n",
       "Area of Use:\n",
       "- name: World.\n",
       "- bounds: (-180.0, -90.0, 180.0, 90.0)\n",
       "Datum: World Geodetic System 1984 ensemble\n",
       "- Ellipsoid: WGS 84\n",
       "- Prime Meridian: Greenwich"
      ]
     },
     "execution_count": 183,
     "metadata": {},
     "output_type": "execute_result"
    }
   ],
   "source": [
    "\"\"\"\n",
    "Re-checks the EPSG of the connections data file.\n",
    "\"\"\"\n",
    "connections.crs"
   ]
  },
  {
   "cell_type": "code",
   "execution_count": 184,
   "id": "3337983a-58bc-4b95-92cb-0a51d32930a5",
   "metadata": {},
   "outputs": [],
   "source": [
    "\"\"\"\n",
    "Creates a folium web map that centers the map to the centroids of all the settlement points.\n",
    "\"\"\"\n",
    "center = settlements.geometry.union_all().centroid # Merges the settlements before finding its centroid \n",
    "m = folium.Map(location=[center.y, center.x], zoom_start=8) # Sets the web map to open showing the center points of all settlements at a zoom of 8\n"
   ]
  },
  {
   "cell_type": "code",
   "execution_count": 185,
   "id": "52080d7c-0ebc-4240-adee-984bf013546b",
   "metadata": {},
   "outputs": [],
   "source": [
    "\"\"\"\n",
    "Adds greenspace polygons to the map with popups revealing its name, category and area.\n",
    "\"\"\"\n",
    "\n",
    "# Code for lambda styling adapted from: https://medium.com/%40aakash013/geospatial-data-visualization-with-folium-geopandas-092673eeaa35  \n",
    "for _, row in greenspace.iterrows(): # Loops through each greenspace to process the following details:\n",
    "    popup = folium.Popup(\n",
    "        f\"<strong>Name:</strong> {row.get('Name', 'N/A')}<br>\" # Displays the name of each greenspace \n",
    "        f\"<strong>Category:</strong> {row.get('Category','N/A')}<br>\" # Displays the category of each greenspace \n",
    "        f\"<strong>Area:</strong> {round(row['Area_Ha'], 2)} ha\", # Displays the area of each greenspace \n",
    "        max_width=250\n",
    "    )\n",
    "    folium.GeoJson(\n",
    "        row.geometry,\n",
    "        style_function=lambda x: { # Style used \n",
    "            'fillColor': 'darkorange', # Fill colour\n",
    "            'color': 'darkorange', # Border colour \n",
    "            'fillOpacity': 0.4, # Transparency of the polygon \n",
    "            'weight': 0.5 # Thickness of border \n",
    "        },\n",
    "        popup=popup # Attaches the specified characteristics to the map\n",
    "    ).add_to(m) # Adds the style to the map"
   ]
  },
  {
   "cell_type": "code",
   "execution_count": 186,
   "id": "3dbbde89-8960-420c-9432-a30a5a5d0b51",
   "metadata": {},
   "outputs": [
    {
     "data": {
      "text/plain": [
       "<folium.features.GeoJson at 0x1803e805940>"
      ]
     },
     "execution_count": 186,
     "metadata": {},
     "output_type": "execute_result"
    }
   ],
   "source": [
    "\"\"\"\n",
    "Adds off-road trail lines to the map that are clickable and show the trail names.\n",
    "\"\"\"\n",
    "folium.GeoJson(\n",
    "    trails, # The file that contains the off-road trail entities \n",
    "    name='Trails', # The name of the layer in the layer control panel \n",
    "    style_function=lambda x: { # The visual style used  \n",
    "        'color': 'blue', # Off-road trail Colour \n",
    "        'weight': 2 # Thickness of off-road trail feature \n",
    "    },\n",
    "    tooltip=folium.GeoJsonTooltip( # Allows the feature to be hovered over \n",
    "        fields=['Name'], # Displays the name of the off-road trails            \n",
    "        aliases=['Trail Name:'], # How the 'Name' is labelled \n",
    "        localize=True,\n",
    "        sticky=True\n",
    "    )\n",
    ").add_to(m) # Adds the style to the map"
   ]
  },
  {
   "cell_type": "code",
   "execution_count": 187,
   "id": "e0cbc942-0caa-4148-a5ab-b5e8c02efa8b",
   "metadata": {},
   "outputs": [],
   "source": [
    "\"\"\"\n",
    "Adds settlements to the map as black circles\n",
    "\"\"\"\n",
    "for _, row in settlements.iterrows(): # Loops through each settlement to process the following details:\n",
    "    centroid = row.geometry.centroid # Uses the center of the settlements \n",
    "    folium.CircleMarker(\n",
    "        location=[centroid.y, centroid.x], # Utalises the coordinates of the centroids\n",
    "        radius=4, # Size of the centroid\n",
    "        color='black', # Colour of the centroid\n",
    "        fill=True,\n",
    "        fill_opacity=0.7, # Transparency of the centroid\n",
    "        tooltip=row.get(\"Name\", \"N/A\") # Displays the name of each settlement \n",
    "    ).add_to(m) # Adds the style to the map"
   ]
  },
  {
   "cell_type": "code",
   "execution_count": 188,
   "id": "3e7e7812-6f73-43e7-aa90-b0908a0acc4f",
   "metadata": {},
   "outputs": [
    {
     "data": {
      "text/plain": [
       "<folium.features.GeoJson at 0x1803e805a70>"
      ]
     },
     "execution_count": 188,
     "metadata": {},
     "output_type": "execute_result"
    }
   ],
   "source": [
    "\"\"\"\n",
    "Draws red lines from each settlement to the nearest off-road trail. Also allows off-road trail lines to be toggled on/off and when hovered over, it will reveal the calculated distances.\n",
    "\"\"\"\n",
    "folium.GeoJson(\n",
    "    connections, # The file that contains the connections entities\n",
    "    name='Nearest Trail Lines', # The name of the layer in the layer control panel \n",
    "    style_function=lambda x: { # The visual style used  \n",
    "        'color': 'red', # Connection lines colour\n",
    "        'weight': 1.5 # Thickness of the connections feature \n",
    "    },\n",
    "    tooltip=folium.GeoJsonTooltip( # Allows the feature to be hovered over \n",
    "        fields=['distance_m'], # Displays the calculated distance of the closest off-road trial to the closest settlement \n",
    "        aliases=['Distance (m):'], # How the 'Name' is labelled \n",
    "        localize=True\n",
    "    )\n",
    ").add_to(m) # Adds the style to the map   "
   ]
  },
  {
   "cell_type": "code",
   "execution_count": 189,
   "id": "1d81d1d8-967c-4d98-9425-2af07127b462",
   "metadata": {},
   "outputs": [
    {
     "name": "stdout",
     "output_type": "stream",
     "text": [
      "nearest_trail_access_map.html\n"
     ]
    }
   ],
   "source": [
    "\"\"\"\n",
    "Adds a layer control panel to the web page and exports the map as a HTML file. \n",
    "\"\"\"\n",
    "\n",
    "# Code for layer control adapted from: https://python-visualization.github.io/folium/latest/user_guide/ui_elements/layer_control.html\n",
    "folium.LayerControl().add_to(m) # Enables the layer control panel\n",
    "m.save(\"nearest_trail_access_map.html\") # Creates the interactive web page \n",
    "\n",
    "print('nearest_trail_access_map.html') # Creates a saved file as an output "
   ]
  },
  {
   "cell_type": "markdown",
   "id": "8c5ddc1c-d19b-4975-baa4-1df4a2d6c5fa",
   "metadata": {},
   "source": [
    "## Conclusion \n",
    "I hope that this interactive web based map allows you to see how accessable a greenspace really is to you. If you get stuck, remeber to use the tips in the how-to-guide and I hope that you have taken something away from this code. Thank you!!"
   ]
  },
  {
   "cell_type": "code",
   "execution_count": null,
   "id": "8d1c73f5-0811-4878-a828-8c05dc881972",
   "metadata": {},
   "outputs": [],
   "source": []
  }
 ],
 "metadata": {
  "kernelspec": {
   "display_name": "Python 3 (ipykernel)",
   "language": "python",
   "name": "python3"
  },
  "language_info": {
   "codemirror_mode": {
    "name": "ipython",
    "version": 3
   },
   "file_extension": ".py",
   "mimetype": "text/x-python",
   "name": "python",
   "nbconvert_exporter": "python",
   "pygments_lexer": "ipython3",
   "version": "3.13.3"
  }
 },
 "nbformat": 4,
 "nbformat_minor": 5
}
