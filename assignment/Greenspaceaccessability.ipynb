{
 "cells": [
  {
   "cell_type": "code",
   "execution_count": 110,
   "id": "4aeb6fd0-ffc8-4e1b-80b0-14ebbe53e241",
   "metadata": {},
   "outputs": [],
   "source": [
    "\"\"\" \n",
    "Assessing greenspace accessability within Northern Ireland through an interactive map which calculates the nearest proximity of a settlement to a greenspace trail. \n",
    "\"\"\"\n",
    "import geopandas as gpd\n",
    "import folium\n",
    "from shapely.geometry import LineString\n",
    "from shapely.strtree import STRtree\n",
    "from shapely.ops import nearest_points"
   ]
  },
  {
   "cell_type": "code",
   "execution_count": 111,
   "id": "ed0de164-4151-40a8-b816-afe92fc9eb56",
   "metadata": {},
   "outputs": [],
   "source": [
    "\"\"\"\n",
    "Load settlement, trail, and greenspace shapefiles.\n",
    "\"\"\"\n",
    "settlements = gpd.read_file(\"data/Settlements/settlements-2015-above-500-threshold.shp\").to_crs(epsg=3857)\n",
    "trails = gpd.read_file(\"data/Trails/greenspaceoffroadtrails.shp\").to_crs(epsg=3857)\n",
    "greenspace = gpd.read_file(\"data/Greenspace/greenspace.shp\").to_crs(epsg=3857)\n"
   ]
  },
  {
   "cell_type": "code",
   "execution_count": 112,
   "id": "cac219b0-f9f8-4b61-b5b5-f0b8b33ed8c1",
   "metadata": {},
   "outputs": [
    {
     "data": {
      "text/plain": [
       "<Projected CRS: EPSG:3857>\n",
       "Name: WGS 84 / Pseudo-Mercator\n",
       "Axis Info [cartesian]:\n",
       "- X[east]: Easting (metre)\n",
       "- Y[north]: Northing (metre)\n",
       "Area of Use:\n",
       "- name: World between 85.06°S and 85.06°N.\n",
       "- bounds: (-180.0, -85.06, 180.0, 85.06)\n",
       "Coordinate Operation:\n",
       "- name: Popular Visualisation Pseudo-Mercator\n",
       "- method: Popular Visualisation Pseudo Mercator\n",
       "Datum: World Geodetic System 1984 ensemble\n",
       "- Ellipsoid: WGS 84\n",
       "- Prime Meridian: Greenwich"
      ]
     },
     "execution_count": 112,
     "metadata": {},
     "output_type": "execute_result"
    }
   ],
   "source": [
    "\"\"\"\n",
    "Check the EPSG of each data file.\n",
    "\"\"\"\n",
    "settlements.crs\n",
    "trails.crs\n",
    "greenspace.crs"
   ]
  },
  {
   "cell_type": "code",
   "execution_count": 113,
   "id": "cd6d3db4-310e-4c3f-8dcf-be3f45585d2c",
   "metadata": {},
   "outputs": [
    {
     "data": {
      "text/html": [
       "<div>\n",
       "<style scoped>\n",
       "    .dataframe tbody tr th:only-of-type {\n",
       "        vertical-align: middle;\n",
       "    }\n",
       "\n",
       "    .dataframe tbody tr th {\n",
       "        vertical-align: top;\n",
       "    }\n",
       "\n",
       "    .dataframe thead th {\n",
       "        text-align: right;\n",
       "    }\n",
       "</style>\n",
       "<table border=\"1\" class=\"dataframe\">\n",
       "  <thead>\n",
       "    <tr style=\"text-align: right;\">\n",
       "      <th></th>\n",
       "      <th>SourceID</th>\n",
       "      <th>GUID</th>\n",
       "      <th>Name</th>\n",
       "      <th>Source</th>\n",
       "      <th>Category</th>\n",
       "      <th>Type</th>\n",
       "      <th>PaidAccess</th>\n",
       "      <th>Area_Ha</th>\n",
       "      <th>Verified</th>\n",
       "      <th>ShowOnMap</th>\n",
       "      <th>ORNI_ID</th>\n",
       "      <th>DataAdded</th>\n",
       "      <th>SiteCreate</th>\n",
       "      <th>geometry</th>\n",
       "    </tr>\n",
       "  </thead>\n",
       "  <tbody>\n",
       "    <tr>\n",
       "      <th>0</th>\n",
       "      <td>None</td>\n",
       "      <td>{68D2DF20-1512-4218-A759-1000732E93B0}</td>\n",
       "      <td>Conservation Volunteers NI</td>\n",
       "      <td>LPS and Outscape</td>\n",
       "      <td>Amenity Greenspace</td>\n",
       "      <td>Community Garden</td>\n",
       "      <td>No</td>\n",
       "      <td>0.668234</td>\n",
       "      <td>Approximated</td>\n",
       "      <td>Yes</td>\n",
       "      <td>51</td>\n",
       "      <td>2022-09-21</td>\n",
       "      <td>Pre 2023</td>\n",
       "      <td>POLYGON Z ((-658305.131 7272616.366 0, -658467...</td>\n",
       "    </tr>\n",
       "    <tr>\n",
       "      <th>1</th>\n",
       "      <td>None</td>\n",
       "      <td>{7B20F220-682E-4566-A4FE-2513CC65ED6E}</td>\n",
       "      <td>Lough Shore Park</td>\n",
       "      <td>Antrim and Newtownabbey Borough Council</td>\n",
       "      <td>Parks and Gardens</td>\n",
       "      <td>Public Park</td>\n",
       "      <td>No</td>\n",
       "      <td>6.598284</td>\n",
       "      <td>Approximated</td>\n",
       "      <td>Yes</td>\n",
       "      <td>61</td>\n",
       "      <td>2022-09-21</td>\n",
       "      <td>Pre 2023</td>\n",
       "      <td>POLYGON Z ((-694569.114 7306677.129 0, -694647...</td>\n",
       "    </tr>\n",
       "    <tr>\n",
       "      <th>2</th>\n",
       "      <td>None</td>\n",
       "      <td>{8A4B8A31-EBA9-4E7A-B8D5-CEA0724D848D}</td>\n",
       "      <td>Ardmore Recreation Centre</td>\n",
       "      <td>Armagh City, Banbridge and Craigavon Borough C...</td>\n",
       "      <td>Amenity Greenspace</td>\n",
       "      <td>Playing Fields</td>\n",
       "      <td>No</td>\n",
       "      <td>2.969549</td>\n",
       "      <td>Approximated</td>\n",
       "      <td>Yes</td>\n",
       "      <td>67</td>\n",
       "      <td>2022-09-21</td>\n",
       "      <td>Pre 2023</td>\n",
       "      <td>POLYGON Z ((-737723.904 7234648.427 0, -737711...</td>\n",
       "    </tr>\n",
       "    <tr>\n",
       "      <th>3</th>\n",
       "      <td>None</td>\n",
       "      <td>{36F2A040-649C-4EB5-9174-7B25C083F489}</td>\n",
       "      <td>Clare Glen - Phase 3 - Link Footpath/River Wal...</td>\n",
       "      <td>Armagh City, Banbridge and Craigavon Borough C...</td>\n",
       "      <td>Woodland</td>\n",
       "      <td>Woodland</td>\n",
       "      <td>No</td>\n",
       "      <td>3.396109</td>\n",
       "      <td>Approximated</td>\n",
       "      <td>Yes</td>\n",
       "      <td>69</td>\n",
       "      <td>2022-09-21</td>\n",
       "      <td>Pre 2023</td>\n",
       "      <td>POLYGON Z ((-713809.418 7236506.822 0, -713812...</td>\n",
       "    </tr>\n",
       "    <tr>\n",
       "      <th>4</th>\n",
       "      <td>None</td>\n",
       "      <td>{2F586E46-B9EE-4D13-83B1-9B254FA3A698}</td>\n",
       "      <td>Folly Glen, Armagh</td>\n",
       "      <td>Armagh City, Banbridge and Craigavon Borough C...</td>\n",
       "      <td>Woodland</td>\n",
       "      <td>Woodland</td>\n",
       "      <td>No</td>\n",
       "      <td>7.849400</td>\n",
       "      <td>Approximated</td>\n",
       "      <td>Yes</td>\n",
       "      <td>70</td>\n",
       "      <td>2022-09-21</td>\n",
       "      <td>Pre 2023</td>\n",
       "      <td>MULTIPOLYGON Z (((-738837.244 7234074.082 0, -...</td>\n",
       "    </tr>\n",
       "  </tbody>\n",
       "</table>\n",
       "</div>"
      ],
      "text/plain": [
       "  SourceID                                    GUID  \\\n",
       "0     None  {68D2DF20-1512-4218-A759-1000732E93B0}   \n",
       "1     None  {7B20F220-682E-4566-A4FE-2513CC65ED6E}   \n",
       "2     None  {8A4B8A31-EBA9-4E7A-B8D5-CEA0724D848D}   \n",
       "3     None  {36F2A040-649C-4EB5-9174-7B25C083F489}   \n",
       "4     None  {2F586E46-B9EE-4D13-83B1-9B254FA3A698}   \n",
       "\n",
       "                                                Name  \\\n",
       "0                         Conservation Volunteers NI   \n",
       "1                                   Lough Shore Park   \n",
       "2                          Ardmore Recreation Centre   \n",
       "3  Clare Glen - Phase 3 - Link Footpath/River Wal...   \n",
       "4                                 Folly Glen, Armagh   \n",
       "\n",
       "                                              Source            Category  \\\n",
       "0                                   LPS and Outscape  Amenity Greenspace   \n",
       "1            Antrim and Newtownabbey Borough Council   Parks and Gardens   \n",
       "2  Armagh City, Banbridge and Craigavon Borough C...  Amenity Greenspace   \n",
       "3  Armagh City, Banbridge and Craigavon Borough C...            Woodland   \n",
       "4  Armagh City, Banbridge and Craigavon Borough C...            Woodland   \n",
       "\n",
       "               Type PaidAccess   Area_Ha      Verified ShowOnMap  ORNI_ID  \\\n",
       "0  Community Garden         No  0.668234  Approximated       Yes       51   \n",
       "1       Public Park         No  6.598284  Approximated       Yes       61   \n",
       "2    Playing Fields         No  2.969549  Approximated       Yes       67   \n",
       "3          Woodland         No  3.396109  Approximated       Yes       69   \n",
       "4          Woodland         No  7.849400  Approximated       Yes       70   \n",
       "\n",
       "   DataAdded SiteCreate                                           geometry  \n",
       "0 2022-09-21   Pre 2023  POLYGON Z ((-658305.131 7272616.366 0, -658467...  \n",
       "1 2022-09-21   Pre 2023  POLYGON Z ((-694569.114 7306677.129 0, -694647...  \n",
       "2 2022-09-21   Pre 2023  POLYGON Z ((-737723.904 7234648.427 0, -737711...  \n",
       "3 2022-09-21   Pre 2023  POLYGON Z ((-713809.418 7236506.822 0, -713812...  \n",
       "4 2022-09-21   Pre 2023  MULTIPOLYGON Z (((-738837.244 7234074.082 0, -...  "
      ]
     },
     "execution_count": 113,
     "metadata": {},
     "output_type": "execute_result"
    }
   ],
   "source": [
    "greenspace.head(5)"
   ]
  },
  {
   "cell_type": "code",
   "execution_count": 114,
   "id": "0bb3390f-3f74-4016-93cf-ab1a83b03c9e",
   "metadata": {},
   "outputs": [],
   "source": [
    "\"\"\"\n",
    "Filter out invalid geometries to avoid errors during distance calculations,\n",
    "spatial indexing, and map rendering.\n",
    "\"\"\"\n",
    "settlements = settlements[settlements.is_valid]\n",
    "trails = trails[trails.is_valid]\n",
    "greenspace = greenspace[greenspace.is_valid]"
   ]
  },
  {
   "cell_type": "code",
   "execution_count": 115,
   "id": "a5bdf820-fdcd-49be-bd86-db9b8511a70e",
   "metadata": {},
   "outputs": [],
   "source": [
    "\"\"\"\n",
    "Calculate area (in hectares) for each greenspace polygon and store its centroid.\n",
    "\"\"\"\n",
    "if 'Area_Ha' not in greenspace.columns:\n",
    "    greenspace['Area_Ha'] = greenspace.geometry.area / 10_000  # Convert m² to ha\n",
    "\n",
    "greenspace['centroid'] = greenspace.geometry.centroid"
   ]
  },
  {
   "cell_type": "code",
   "execution_count": 116,
   "id": "8e665266-5a5b-4488-9f23-7262d40e068b",
   "metadata": {},
   "outputs": [],
   "source": [
    "\"\"\"\n",
    "Use a spatial index (STRtree) to efficiently find the nearest trail segment\n",
    "to each settlement. Record both the connecting line and the distance.\n",
    "\"\"\"\n",
    "trail_geoms = trails.geometry.tolist()\n",
    "trail_tree = STRtree(trail_geoms)\n",
    "\n",
    "connection_lines = []  # List to hold LineStrings from settlements to trails\n",
    "distances = []         # List to hold Euclidean distances (in meters)\n",
    "\n",
    "for idx, row in settlements.iterrows():\n",
    "    point = row.geometry.centroid\n",
    "    nearest_idx = trail_tree.nearest(point)\n",
    "    nearest_geom = trail_geoms[nearest_idx]\n",
    "    nearest_point = nearest_points(point, nearest_geom)[1]\n",
    "\n",
    "    line = LineString([point, nearest_point])\n",
    "    distance = point.distance(nearest_point)\n",
    "\n",
    "    connection_lines.append(line)\n",
    "    distances.append(distance)\n",
    "\n",
    "# Create GeoDataFrame of connection lines and distances\n",
    "connections = gpd.GeoDataFrame(\n",
    "    {'distance_m': distances},\n",
    "    geometry=connection_lines,\n",
    "    crs=settlements.crs\n",
    ")"
   ]
  },
  {
   "cell_type": "code",
   "execution_count": 117,
   "id": "8fde7c00-1d46-46ec-8a4e-d8ee48b4be56",
   "metadata": {},
   "outputs": [
    {
     "data": {
      "text/plain": [
       "<Projected CRS: EPSG:3857>\n",
       "Name: WGS 84 / Pseudo-Mercator\n",
       "Axis Info [cartesian]:\n",
       "- X[east]: Easting (metre)\n",
       "- Y[north]: Northing (metre)\n",
       "Area of Use:\n",
       "- name: World between 85.06°S and 85.06°N.\n",
       "- bounds: (-180.0, -85.06, 180.0, 85.06)\n",
       "Coordinate Operation:\n",
       "- name: Popular Visualisation Pseudo-Mercator\n",
       "- method: Popular Visualisation Pseudo Mercator\n",
       "Datum: World Geodetic System 1984 ensemble\n",
       "- Ellipsoid: WGS 84\n",
       "- Prime Meridian: Greenwich"
      ]
     },
     "execution_count": 117,
     "metadata": {},
     "output_type": "execute_result"
    }
   ],
   "source": [
    "\"\"\"\n",
    "Check the EPSG of the connections.gpd.\n",
    "\"\"\"\n",
    "connections.crs"
   ]
  },
  {
   "cell_type": "code",
   "execution_count": 118,
   "id": "b5400546-8f39-4611-8b8a-aaadc6d34f6a",
   "metadata": {},
   "outputs": [],
   "source": [
    "\"\"\"\n",
    "Reproject all spatial layers to EPSG:4326 for compatibility with Folium.\n",
    "\"\"\"\n",
    "settlements = settlements.to_crs(epsg=4326)\n",
    "trails = trails.to_crs(epsg=4326)\n",
    "greenspace = greenspace.to_crs(epsg=4326)\n",
    "connections = connections.to_crs(epsg=4326)"
   ]
  },
  {
   "cell_type": "code",
   "execution_count": 119,
   "id": "44cbc9d1-cdcd-4972-99a3-fb55e9d27d36",
   "metadata": {},
   "outputs": [
    {
     "data": {
      "text/plain": [
       "<Geographic 2D CRS: EPSG:4326>\n",
       "Name: WGS 84\n",
       "Axis Info [ellipsoidal]:\n",
       "- Lat[north]: Geodetic latitude (degree)\n",
       "- Lon[east]: Geodetic longitude (degree)\n",
       "Area of Use:\n",
       "- name: World.\n",
       "- bounds: (-180.0, -90.0, 180.0, 90.0)\n",
       "Datum: World Geodetic System 1984 ensemble\n",
       "- Ellipsoid: WGS 84\n",
       "- Prime Meridian: Greenwich"
      ]
     },
     "execution_count": 119,
     "metadata": {},
     "output_type": "execute_result"
    }
   ],
   "source": [
    "\"\"\"\n",
    "Check the EPSG of each data file.\n",
    "\"\"\"\n",
    "settlements.crs\n",
    "trails.crs\n",
    "greenspace.crs\n",
    "connections.crs"
   ]
  },
  {
   "cell_type": "code",
   "execution_count": 120,
   "id": "3337983a-58bc-4b95-92cb-0a51d32930a5",
   "metadata": {},
   "outputs": [],
   "source": [
    "\"\"\"\n",
    "Center the map on the geographic centroid of all settlements and initialize a\n",
    "Folium web map.\n",
    "\"\"\"\n",
    "center = settlements.geometry.union_all().centroid\n",
    "m = folium.Map(location=[center.y, center.x], zoom_start=8)\n"
   ]
  },
  {
   "cell_type": "code",
   "execution_count": 121,
   "id": "52080d7c-0ebc-4240-adee-984bf013546b",
   "metadata": {},
   "outputs": [],
   "source": [
    "\"\"\"\n",
    "Overlay greenspace polygons on the map with popups showing name and area.\n",
    "\"\"\"\n",
    "for _, row in greenspace.iterrows():\n",
    "    popup = folium.Popup(\n",
    "        f\"<strong>Name:</strong> {row.get('Name', 'N/A')}<br>\"\n",
    "        f\"<strong>Category:</strong> {row.get('Category','N/A')}<br>\"\n",
    "        f\"<strong>Area:</strong> {round(row['Area_Ha'], 2)} ha\",\n",
    "        max_width=250\n",
    "    )\n",
    "    folium.GeoJson(\n",
    "        row.geometry,\n",
    "        style_function=lambda x: {\n",
    "            'fillColor': 'green',\n",
    "            'color': 'darkgreen',\n",
    "            'fillOpacity': 0.4,\n",
    "            'weight': 0.5\n",
    "        },\n",
    "        popup=popup\n",
    "    ).add_to(m)\n"
   ]
  },
  {
   "cell_type": "code",
   "execution_count": 122,
   "id": "3dbbde89-8960-420c-9432-a30a5a5d0b51",
   "metadata": {},
   "outputs": [
    {
     "data": {
      "text/plain": [
       "<folium.features.GeoJson at 0x17fe785a190>"
      ]
     },
     "execution_count": 122,
     "metadata": {},
     "output_type": "execute_result"
    }
   ],
   "source": [
    "\"\"\"\n",
    "Add trail network lines to the map with a blue style for visual distinction.\n",
    "\"\"\"\n",
    "folium.GeoJson(\n",
    "    trails,\n",
    "    name='Trails',\n",
    "    style_function=lambda x: {\n",
    "        'color': 'blue',\n",
    "        'weight': 2\n",
    "    }\n",
    ").add_to(m)\n"
   ]
  },
  {
   "cell_type": "code",
   "execution_count": 123,
   "id": "e0cbc942-0caa-4148-a5ab-b5e8c02efa8b",
   "metadata": {},
   "outputs": [],
   "source": [
    "\"\"\"\n",
    "Represent each settlement with a black circle marker, using the centroid for placement.\n",
    "\"\"\"\n",
    "for _, row in settlements.iterrows():\n",
    "    centroid = row.geometry.centroid\n",
    "    folium.CircleMarker(\n",
    "        location=[centroid.y, centroid.x],\n",
    "        radius=4,\n",
    "        color='black',\n",
    "        fill=True,\n",
    "        fill_opacity=0.7,\n",
    "        tooltip=row.get(\"Settlement_Name\", \"Settlement\")\n",
    "    ).add_to(m)"
   ]
  },
  {
   "cell_type": "code",
   "execution_count": 124,
   "id": "3e7e7812-6f73-43e7-aa90-b0908a0acc4f",
   "metadata": {},
   "outputs": [],
   "source": [
    "\"\"\"\n",
    "Draw red lines from each settlement to the nearest trail, with tooltip showing distance.\n",
    "\"\"\"\n",
    "for _, row in connections.iterrows():\n",
    "    folium.GeoJson(\n",
    "        row.geometry,\n",
    "        name='Nearest Trail Line',\n",
    "        style_function=lambda x: {\n",
    "            'color': 'red',\n",
    "            'weight': 1.5\n",
    "        },\n",
    "        tooltip=f\"Distance: {int(row['distance_m'])} m\"\n",
    "    ).add_to(m)\n"
   ]
  },
  {
   "cell_type": "code",
   "execution_count": 125,
   "id": "1d81d1d8-967c-4d98-9425-2af07127b462",
   "metadata": {},
   "outputs": [
    {
     "name": "stdout",
     "output_type": "stream",
     "text": [
      "nearest_trail_access_map.html\n"
     ]
    }
   ],
   "source": [
    "\"\"\"\n",
    "Add interactive layer control and export the complete map as an HTML file.\n",
    "\"\"\"\n",
    "folium.LayerControl().add_to(m)\n",
    "m.save(\"nearest_trail_access_map.html\")\n",
    "\n",
    "print('nearest_trail_access_map.html')"
   ]
  },
  {
   "cell_type": "code",
   "execution_count": null,
   "id": "baa04254-c7fe-45b3-8417-8e3acdfa42a2",
   "metadata": {},
   "outputs": [],
   "source": []
  }
 ],
 "metadata": {
  "kernelspec": {
   "display_name": "Python 3 (ipykernel)",
   "language": "python",
   "name": "python3"
  },
  "language_info": {
   "codemirror_mode": {
    "name": "ipython",
    "version": 3
   },
   "file_extension": ".py",
   "mimetype": "text/x-python",
   "name": "python",
   "nbconvert_exporter": "python",
   "pygments_lexer": "ipython3",
   "version": "3.13.3"
  }
 },
 "nbformat": 4,
 "nbformat_minor": 5
}
