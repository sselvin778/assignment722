{
 "cells": [
  {
   "cell_type": "code",
   "execution_count": 3,
   "id": "4aeb6fd0-ffc8-4e1b-80b0-14ebbe53e241",
   "metadata": {},
   "outputs": [],
   "source": [
    "\"\"\" \n",
    "Assessing greenspace accessability within Northern Ireland through an interactive map which calculates the nearest proximity of a settlement to a greenspace trail. \n",
    "\"\"\"\n",
    "import geopandas as gpd\n",
    "import folium\n",
    "from shapely.geometry import LineString\n",
    "from shapely.strtree import STRtree\n",
    "from shapely.ops import nearest_points"
   ]
  },
  {
   "cell_type": "code",
   "execution_count": 4,
   "id": "ed0de164-4151-40a8-b816-afe92fc9eb56",
   "metadata": {},
   "outputs": [],
   "source": [
    "\"\"\"\n",
    "Load settlement, trail, and greenspace shapefiles.\n",
    "\"\"\"\n",
    "settlements = gpd.read_file(\"data/Settlements/settlements-2015-above-500-threshold.shp\").to_crs(epsg=3857)\n",
    "trails = gpd.read_file(\"data/Trails/greenspaceoffroadtrails.shp\").to_crs(epsg=3857)\n",
    "greenspace = gpd.read_file(\"data/Greenspace/greenspace.shp\").to_crs(epsg=3857)\n"
   ]
  },
  {
   "cell_type": "code",
   "execution_count": 5,
   "id": "cac219b0-f9f8-4b61-b5b5-f0b8b33ed8c1",
   "metadata": {},
   "outputs": [
    {
     "data": {
      "text/plain": [
       "<Projected CRS: EPSG:3857>\n",
       "Name: WGS 84 / Pseudo-Mercator\n",
       "Axis Info [cartesian]:\n",
       "- X[east]: Easting (metre)\n",
       "- Y[north]: Northing (metre)\n",
       "Area of Use:\n",
       "- name: World between 85.06°S and 85.06°N.\n",
       "- bounds: (-180.0, -85.06, 180.0, 85.06)\n",
       "Coordinate Operation:\n",
       "- name: Popular Visualisation Pseudo-Mercator\n",
       "- method: Popular Visualisation Pseudo Mercator\n",
       "Datum: World Geodetic System 1984 ensemble\n",
       "- Ellipsoid: WGS 84\n",
       "- Prime Meridian: Greenwich"
      ]
     },
     "execution_count": 5,
     "metadata": {},
     "output_type": "execute_result"
    }
   ],
   "source": [
    "\"\"\"\n",
    "Check the EPSG of each data file.\n",
    "\"\"\"\n",
    "settlements.crs\n",
    "trails.crs\n",
    "greenspace.crs"
   ]
  },
  {
   "cell_type": "code",
   "execution_count": 6,
   "id": "a5bdf820-fdcd-49be-bd86-db9b8511a70e",
   "metadata": {},
   "outputs": [],
   "source": [
    "\"\"\"\n",
    "Calculate area (in hectares) for each greenspace polygon and store its centroid\n",
    "for labeling or proximity operations.\n",
    "\"\"\"\n",
    "if 'Area_Ha' not in greenspace.columns:\n",
    "    greenspace['Area_Ha'] = greenspace.geometry.area / 10_000  # Convert m² to ha\n",
    "\n",
    "greenspace['centroid'] = greenspace.geometry.centroid"
   ]
  },
  {
   "cell_type": "code",
   "execution_count": 7,
   "id": "8e665266-5a5b-4488-9f23-7262d40e068b",
   "metadata": {},
   "outputs": [],
   "source": [
    "\"\"\"\n",
    "Use a spatial index (STRtree) to efficiently find the nearest trail segment\n",
    "to each settlement. Record both the connecting line and the distance.\n",
    "\"\"\"\n",
    "trail_geoms = trails.geometry.tolist()\n",
    "trail_tree = STRtree(trail_geoms)\n",
    "\n",
    "connection_lines = []  # List to hold LineStrings from settlements to trails\n",
    "distances = []         # List to hold Euclidean distances (in meters)\n",
    "\n",
    "for idx, row in settlements.iterrows():\n",
    "    point = row.geometry.centroid\n",
    "    nearest_idx = trail_tree.nearest(point)\n",
    "    nearest_geom = trail_geoms[nearest_idx]\n",
    "    nearest_point = nearest_points(point, nearest_geom)[1]\n",
    "\n",
    "    line = LineString([point, nearest_point])\n",
    "    distance = point.distance(nearest_point)\n",
    "\n",
    "    connection_lines.append(line)\n",
    "    distances.append(distance)\n",
    "\n",
    "# Create GeoDataFrame of connection lines and distances\n",
    "connections = gpd.GeoDataFrame(\n",
    "    {'distance_m': distances},\n",
    "    geometry=connection_lines,\n",
    "    crs=settlements.crs\n",
    ")"
   ]
  },
  {
   "cell_type": "code",
   "execution_count": 8,
   "id": "8fde7c00-1d46-46ec-8a4e-d8ee48b4be56",
   "metadata": {},
   "outputs": [
    {
     "data": {
      "text/plain": [
       "<Projected CRS: EPSG:3857>\n",
       "Name: WGS 84 / Pseudo-Mercator\n",
       "Axis Info [cartesian]:\n",
       "- X[east]: Easting (metre)\n",
       "- Y[north]: Northing (metre)\n",
       "Area of Use:\n",
       "- name: World between 85.06°S and 85.06°N.\n",
       "- bounds: (-180.0, -85.06, 180.0, 85.06)\n",
       "Coordinate Operation:\n",
       "- name: Popular Visualisation Pseudo-Mercator\n",
       "- method: Popular Visualisation Pseudo Mercator\n",
       "Datum: World Geodetic System 1984 ensemble\n",
       "- Ellipsoid: WGS 84\n",
       "- Prime Meridian: Greenwich"
      ]
     },
     "execution_count": 8,
     "metadata": {},
     "output_type": "execute_result"
    }
   ],
   "source": [
    "\"\"\"\n",
    "Check the EPSG of the connections.gpd.\n",
    "\"\"\"\n",
    "connections.crs"
   ]
  },
  {
   "cell_type": "code",
   "execution_count": 9,
   "id": "b5400546-8f39-4611-8b8a-aaadc6d34f6a",
   "metadata": {},
   "outputs": [],
   "source": [
    "\"\"\"\n",
    "Reproject all spatial layers to EPSG:4326 for compatibility with Folium.\n",
    "\"\"\"\n",
    "settlements = settlements.to_crs(epsg=4326)\n",
    "trails = trails.to_crs(epsg=4326)\n",
    "greenspace = greenspace.to_crs(epsg=4326)\n",
    "connections = connections.to_crs(epsg=4326)"
   ]
  },
  {
   "cell_type": "code",
   "execution_count": 10,
   "id": "44cbc9d1-cdcd-4972-99a3-fb55e9d27d36",
   "metadata": {},
   "outputs": [
    {
     "data": {
      "text/plain": [
       "<Geographic 2D CRS: EPSG:4326>\n",
       "Name: WGS 84\n",
       "Axis Info [ellipsoidal]:\n",
       "- Lat[north]: Geodetic latitude (degree)\n",
       "- Lon[east]: Geodetic longitude (degree)\n",
       "Area of Use:\n",
       "- name: World.\n",
       "- bounds: (-180.0, -90.0, 180.0, 90.0)\n",
       "Datum: World Geodetic System 1984 ensemble\n",
       "- Ellipsoid: WGS 84\n",
       "- Prime Meridian: Greenwich"
      ]
     },
     "execution_count": 10,
     "metadata": {},
     "output_type": "execute_result"
    }
   ],
   "source": [
    "\"\"\"\n",
    "Check the EPSG of each data file.\n",
    "\"\"\"\n",
    "settlements.crs\n",
    "trails.crs\n",
    "greenspace.crs\n",
    "connections.crs"
   ]
  },
  {
   "cell_type": "code",
   "execution_count": 11,
   "id": "3337983a-58bc-4b95-92cb-0a51d32930a5",
   "metadata": {},
   "outputs": [],
   "source": [
    "\"\"\"\n",
    "Center the map on the geographic centroid of all settlements and initialize a\n",
    "Folium web map.\n",
    "\"\"\"\n",
    "center = settlements.geometry.union_all().centroid\n",
    "m = folium.Map(location=[center.y, center.x], zoom_start=8)\n"
   ]
  },
  {
   "cell_type": "code",
   "execution_count": 12,
   "id": "52080d7c-0ebc-4240-adee-984bf013546b",
   "metadata": {},
   "outputs": [],
   "source": [
    "\"\"\"\n",
    "Overlay greenspace polygons on the map with popups showing name and area.\n",
    "\"\"\"\n",
    "for _, row in greenspace.iterrows():\n",
    "    popup = folium.Popup(\n",
    "        f\"<strong>Name:</strong> {row.get('NAME')}<br>\"\n",
    "        f\"<strong>Area:</strong> {round(row['Area_Ha'], 2)} ha\",\n",
    "        max_width=250\n",
    "    )\n",
    "    folium.GeoJson(\n",
    "        row.geometry,\n",
    "        style_function=lambda x: {\n",
    "            'fillColor': 'green',\n",
    "            'color': 'darkgreen',\n",
    "            'fillOpacity': 0.4,\n",
    "            'weight': 0.5\n",
    "        },\n",
    "        popup=popup\n",
    "    ).add_to(m)\n"
   ]
  },
  {
   "cell_type": "code",
   "execution_count": 13,
   "id": "3dbbde89-8960-420c-9432-a30a5a5d0b51",
   "metadata": {},
   "outputs": [
    {
     "data": {
      "text/plain": [
       "<folium.features.GeoJson at 0x1f90e1048a0>"
      ]
     },
     "execution_count": 13,
     "metadata": {},
     "output_type": "execute_result"
    }
   ],
   "source": [
    "\"\"\"\n",
    "Add trail network lines to the map with a blue style for visual distinction.\n",
    "\"\"\"\n",
    "folium.GeoJson(\n",
    "    trails,\n",
    "    name='Trails',\n",
    "    style_function=lambda x: {\n",
    "        'color': 'blue',\n",
    "        'weight': 2\n",
    "    }\n",
    ").add_to(m)\n"
   ]
  },
  {
   "cell_type": "code",
   "execution_count": 14,
   "id": "e0cbc942-0caa-4148-a5ab-b5e8c02efa8b",
   "metadata": {},
   "outputs": [],
   "source": [
    "\"\"\"\n",
    "Represent each settlement with a black circle marker, using the centroid for placement.\n",
    "\"\"\"\n",
    "for _, row in settlements.iterrows():\n",
    "    centroid = row.geometry.centroid\n",
    "    folium.CircleMarker(\n",
    "        location=[centroid.y, centroid.x],\n",
    "        radius=4,\n",
    "        color='black',\n",
    "        fill=True,\n",
    "        fill_opacity=0.7,\n",
    "        tooltip=row.get(\"Settlement_Name\", \"Settlement\")\n",
    "    ).add_to(m)"
   ]
  },
  {
   "cell_type": "code",
   "execution_count": 16,
   "id": "3e7e7812-6f73-43e7-aa90-b0908a0acc4f",
   "metadata": {},
   "outputs": [],
   "source": [
    "\"\"\"\n",
    "Draw red lines from each settlement to the nearest trail, with tooltip showing distance.\n",
    "\"\"\"\n",
    "for _, row in connections.iterrows():\n",
    "    folium.GeoJson(\n",
    "        row.geometry,\n",
    "        name='Nearest Trail Line',\n",
    "        style_function=lambda x: {\n",
    "            'color': 'red',\n",
    "            'weight': 1.5\n",
    "        },\n",
    "        tooltip=f\"Distance: {int(row['distance_m'])} m\"\n",
    "    ).add_to(m)\n"
   ]
  },
  {
   "cell_type": "code",
   "execution_count": null,
   "id": "1d81d1d8-967c-4d98-9425-2af07127b462",
   "metadata": {},
   "outputs": [],
   "source": []
  },
  {
   "cell_type": "code",
   "execution_count": null,
   "id": "baa04254-c7fe-45b3-8417-8e3acdfa42a2",
   "metadata": {},
   "outputs": [],
   "source": []
  }
 ],
 "metadata": {
  "kernelspec": {
   "display_name": "Python 3 (ipykernel)",
   "language": "python",
   "name": "python3"
  },
  "language_info": {
   "codemirror_mode": {
    "name": "ipython",
    "version": 3
   },
   "file_extension": ".py",
   "mimetype": "text/x-python",
   "name": "python",
   "nbconvert_exporter": "python",
   "pygments_lexer": "ipython3",
   "version": "3.13.3"
  }
 },
 "nbformat": 4,
 "nbformat_minor": 5
}
