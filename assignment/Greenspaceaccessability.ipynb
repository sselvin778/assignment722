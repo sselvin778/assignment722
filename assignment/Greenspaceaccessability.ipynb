{
 "cells": [
  {
   "cell_type": "code",
   "execution_count": 1,
   "id": "4aeb6fd0-ffc8-4e1b-80b0-14ebbe53e241",
   "metadata": {},
   "outputs": [],
   "source": [
    "\"\"\" \n",
    "Assessing greenspace accessability within Northern Ireland through an interactive map which calculates the nearest proximity of a settlement to a greenspace trail. \n",
    "\"\"\"\n",
    "import geopandas as gpd\n",
    "import folium\n",
    "from shapely.geometry import LineString\n",
    "from shapely.strtree import STRtree\n",
    "from shapely.ops import nearest_points"
   ]
  },
  {
   "cell_type": "code",
   "execution_count": 10,
   "id": "ed0de164-4151-40a8-b816-afe92fc9eb56",
   "metadata": {},
   "outputs": [],
   "source": [
    "\"\"\"\n",
    "Load settlement, trail, and greenspace shapefiles.\n",
    "\"\"\"\n",
    "settlements = gpd.read_file(\"data/Settlements/settlements-2015-above-500-threshold.shp\").to_crs(epsg=3857)\n",
    "trails = gpd.read_file(\"data/Trails/greenspaceoffroadtrails.shp\").to_crs(epsg=3857)\n",
    "greenspace = gpd.read_file(\"data/Greenspace/greenspace.shp\").to_crs(epsg=3857)\n"
   ]
  },
  {
   "cell_type": "code",
   "execution_count": 11,
   "id": "cac219b0-f9f8-4b61-b5b5-f0b8b33ed8c1",
   "metadata": {},
   "outputs": [
    {
     "data": {
      "text/plain": [
       "<Projected CRS: EPSG:3857>\n",
       "Name: WGS 84 / Pseudo-Mercator\n",
       "Axis Info [cartesian]:\n",
       "- X[east]: Easting (metre)\n",
       "- Y[north]: Northing (metre)\n",
       "Area of Use:\n",
       "- name: World between 85.06°S and 85.06°N.\n",
       "- bounds: (-180.0, -85.06, 180.0, 85.06)\n",
       "Coordinate Operation:\n",
       "- name: Popular Visualisation Pseudo-Mercator\n",
       "- method: Popular Visualisation Pseudo Mercator\n",
       "Datum: World Geodetic System 1984 ensemble\n",
       "- Ellipsoid: WGS 84\n",
       "- Prime Meridian: Greenwich"
      ]
     },
     "execution_count": 11,
     "metadata": {},
     "output_type": "execute_result"
    }
   ],
   "source": [
    "\"\"\"\n",
    "Check the EPSG of each data file.\n",
    "\"\"\"\n",
    "settlements.crs\n",
    "trails.crs\n",
    "greenspace.crs"
   ]
  },
  {
   "cell_type": "code",
   "execution_count": 12,
   "id": "a5bdf820-fdcd-49be-bd86-db9b8511a70e",
   "metadata": {},
   "outputs": [],
   "source": [
    "\"\"\"\n",
    "Calculate area (in hectares) for each greenspace polygon and store its centroid\n",
    "for labeling or proximity operations.\n",
    "\"\"\"\n",
    "if 'Area_Ha' not in greenspace.columns:\n",
    "    greenspace['Area_Ha'] = greenspace.geometry.area / 10_000  # Convert m² to ha\n",
    "\n",
    "greenspace['centroid'] = greenspace.geometry.centroid"
   ]
  },
  {
   "cell_type": "code",
   "execution_count": 13,
   "id": "8e665266-5a5b-4488-9f23-7262d40e068b",
   "metadata": {},
   "outputs": [],
   "source": [
    "\"\"\"\n",
    "Use a spatial index (STRtree) to efficiently find the nearest trail segment\n",
    "to each settlement. Record both the connecting line and the distance.\n",
    "\"\"\"\n",
    "trail_geoms = trails.geometry.tolist()\n",
    "trail_tree = STRtree(trail_geoms)\n",
    "\n",
    "connection_lines = []  # List to hold LineStrings from settlements to trails\n",
    "distances = []         # List to hold Euclidean distances (in meters)\n",
    "\n",
    "for idx, row in settlements.iterrows():\n",
    "    point = row.geometry.centroid\n",
    "    nearest_idx = trail_tree.nearest(point)\n",
    "    nearest_geom = trail_geoms[nearest_idx]\n",
    "    nearest_point = nearest_points(point, nearest_geom)[1]\n",
    "\n",
    "    line = LineString([point, nearest_point])\n",
    "    distance = point.distance(nearest_point)\n",
    "\n",
    "    connection_lines.append(line)\n",
    "    distances.append(distance)\n",
    "\n",
    "# Create GeoDataFrame of connection lines and distances\n",
    "connections = gpd.GeoDataFrame(\n",
    "    {'distance_m': distances},\n",
    "    geometry=connection_lines,\n",
    "    crs=settlements.crs\n",
    ")"
   ]
  },
  {
   "cell_type": "code",
   "execution_count": 14,
   "id": "8fde7c00-1d46-46ec-8a4e-d8ee48b4be56",
   "metadata": {},
   "outputs": [
    {
     "data": {
      "text/plain": [
       "<Projected CRS: EPSG:3857>\n",
       "Name: WGS 84 / Pseudo-Mercator\n",
       "Axis Info [cartesian]:\n",
       "- X[east]: Easting (metre)\n",
       "- Y[north]: Northing (metre)\n",
       "Area of Use:\n",
       "- name: World between 85.06°S and 85.06°N.\n",
       "- bounds: (-180.0, -85.06, 180.0, 85.06)\n",
       "Coordinate Operation:\n",
       "- name: Popular Visualisation Pseudo-Mercator\n",
       "- method: Popular Visualisation Pseudo Mercator\n",
       "Datum: World Geodetic System 1984 ensemble\n",
       "- Ellipsoid: WGS 84\n",
       "- Prime Meridian: Greenwich"
      ]
     },
     "execution_count": 14,
     "metadata": {},
     "output_type": "execute_result"
    }
   ],
   "source": [
    "\"\"\"\n",
    "Check the EPSG of the connections.gpd.\n",
    "\"\"\"\n",
    "connections.crs"
   ]
  },
  {
   "cell_type": "code",
   "execution_count": null,
   "id": "b5400546-8f39-4611-8b8a-aaadc6d34f6a",
   "metadata": {},
   "outputs": [],
   "source": []
  }
 ],
 "metadata": {
  "kernelspec": {
   "display_name": "Python 3 (ipykernel)",
   "language": "python",
   "name": "python3"
  },
  "language_info": {
   "codemirror_mode": {
    "name": "ipython",
    "version": 3
   },
   "file_extension": ".py",
   "mimetype": "text/x-python",
   "name": "python",
   "nbconvert_exporter": "python",
   "pygments_lexer": "ipython3",
   "version": "3.13.3"
  }
 },
 "nbformat": 4,
 "nbformat_minor": 5
}
