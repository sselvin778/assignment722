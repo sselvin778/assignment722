{
 "cells": [
  {
   "cell_type": "code",
   "execution_count": 1,
   "id": "5759c976-f1e0-4def-90bb-0b66762ba7ba",
   "metadata": {},
   "outputs": [],
   "source": [
    "import geopandas as gpd\n",
    "import folium\n",
    "from shapely.geometry import LineString\n",
    "from shapely.strtree import STRtree\n",
    "from shapely.ops import nearest_points\n"
   ]
  },
  {
   "cell_type": "code",
   "execution_count": 2,
   "id": "fe675646-2851-4e1b-b792-c4ad6097fdcf",
   "metadata": {},
   "outputs": [],
   "source": [
    "settlements = gpd.read_file(\"data/Settlements/settlements-2015-above-500-threshold.shp\").to_crs(epsg=4326)\n",
    "trails = gpd.read_file(\"data/Trails/greenspaceoffroadtrails.shp\").to_crs(epsg=4326)\n",
    "greenspace = gpd.read_file(\"data/Greenspace/greenspace.shp\").to_crs(epsg=4326)"
   ]
  },
  {
   "cell_type": "code",
   "execution_count": 3,
   "id": "29db164a-e765-44ae-851f-854e2f3f235c",
   "metadata": {},
   "outputs": [],
   "source": [
    "settlements = settlements[settlements.is_valid]\n",
    "trails = trails[trails.is_valid]\n",
    "greenspace = greenspace[greenspace.is_valid]"
   ]
  },
  {
   "cell_type": "code",
   "execution_count": 4,
   "id": "78ecf771-f89f-4bbb-a705-035f0399415c",
   "metadata": {},
   "outputs": [
    {
     "name": "stderr",
     "output_type": "stream",
     "text": [
      "C:\\Users\\steve\\AppData\\Local\\Temp\\ipykernel_12080\\4160519152.py:4: UserWarning: Geometry is in a geographic CRS. Results from 'centroid' are likely incorrect. Use 'GeoSeries.to_crs()' to re-project geometries to a projected CRS before this operation.\n",
      "\n",
      "  greenspace['centroid'] = greenspace.geometry.centroid\n"
     ]
    }
   ],
   "source": [
    "if 'Area_Ha' not in greenspace.columns:\n",
    "    greenspace['Area_Ha'] = greenspace.geometry.area / 10_000  # m² to hectares\n",
    "\n",
    "greenspace['centroid'] = greenspace.geometry.centroid\n"
   ]
  },
  {
   "cell_type": "code",
   "execution_count": null,
   "id": "25e0beb6-f251-42df-8be7-84dce41b3657",
   "metadata": {},
   "outputs": [],
   "source": []
  }
 ],
 "metadata": {
  "kernelspec": {
   "display_name": "Python 3 (ipykernel)",
   "language": "python",
   "name": "python3"
  },
  "language_info": {
   "codemirror_mode": {
    "name": "ipython",
    "version": 3
   },
   "file_extension": ".py",
   "mimetype": "text/x-python",
   "name": "python",
   "nbconvert_exporter": "python",
   "pygments_lexer": "ipython3",
   "version": "3.13.3"
  }
 },
 "nbformat": 4,
 "nbformat_minor": 5
}
